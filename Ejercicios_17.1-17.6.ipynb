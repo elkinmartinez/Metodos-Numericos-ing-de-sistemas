{
 "cells": [
  {
   "cell_type": "code",
   "execution_count": 69,
   "metadata": {
    "collapsed": false
   },
   "outputs": [
    {
     "name": "stdout",
     "output_type": "stream",
     "text": [
      "Media             Varianza           Desviacion estandar              Coeficiente de variacion\n",
      "9.652000          0.494267           0.703041                         0.072839 \n",
      "intervalo de confianza del 95% (9.376408,9.927592)\n"
     ]
    }
   ],
   "source": [
    "17.1\n",
    "\n",
    "import math\n",
    "n,med=25,0.0\n",
    "datos=[8.8,9.5,9.8,9.4,10,9.4,10.1,9.2,11.3,9.4,10,10.4,7.9,10.4,9.8,9.8,9.5,8.9,8.8,10.6,10.1,9.5,9.6,10.2,8.9]\n",
    "\n",
    "def media():\n",
    "    med=0.0\n",
    "    for i in range(0,n):\n",
    "        med += datos[i]\n",
    "    return med/n\n",
    "\n",
    "med = media()\n",
    "\n",
    "def varianza():\n",
    "    suma = 0.0\n",
    "    for j in range(n):\n",
    "        suma += (datos[j]-med)**2\n",
    "    var = suma/(n-1)\n",
    "    return var\n",
    "\n",
    "desviacion = math.sqrt(varianza())\n",
    "coeVariacion = (desviacion/med)\n",
    "intInf = med-(1.96*(desviacion/math.sqrt(n)))\n",
    "intSup = med+(1.96*(desviacion/math.sqrt(n)))\n",
    "\n",
    "print \"Media             Varianza           Desviacion estandar              Coeficiente de variacion\"\n",
    "print \"%f          %f           %f                         %f \"%(med,varianza(),desviacion,coeVariacion)\n",
    "print \"intervalo de confianza del 95%s (%f,%f)\"%(\"%\",intInf,intSup)\n",
    "\n"
   ]
  },
  {
   "cell_type": "code",
   "execution_count": 2,
   "metadata": {
    "collapsed": false
   },
   "outputs": [
    {
     "data": {
      "image/png": "[encoded data removed]",
      "text/plain": [
       "<matplotlib.figure.Figure at 0x7d27a90>"
      ]
     },
     "metadata": {},
     "output_type": "display_data"
    }
   ],
   "source": [
    "17.2\n",
    "\n",
    "import matplotlib.pyplot as plt\n",
    "from matplotlib.pylab import hist,show\n",
    "%matplotlib inline\n",
    "datos = [8.8,9.5,9.8,9.4,10,9.4,10.1,9.2,11.3,9.4,10,10.4,7.9,10.4,9.8,9.8,9.5,8.9,8.8,10.6,10.1,9.5,9.6,10.2,8.9]\n",
    "hist(datos)\n",
    "plt.title('Histograma')\n",
    "show()"
   ]
  },
  {
   "cell_type": "code",
   "execution_count": 3,
   "metadata": {
    "collapsed": false
   },
   "outputs": [
    {
     "name": "stdout",
     "output_type": "stream",
     "text": [
      "Media             Varianza           Desviacion estandar              Coeficiente de variacion\n",
      "28.003571          1.204061           1.097297                         0.039184 \n",
      "intervalo de confianza del 90% (27.662448,28.344695)\n",
      "Valores inferior y superior que agrupa al 68% de los datos (26.906274,29.100868)\n"
     ]
    },
    {
     "data": {
      "image/png": "[encoded data removed]",
      "text/plain": [
       "<matplotlib.figure.Figure at 0x3db8390>"
      ]
     },
     "metadata": {},
     "output_type": "display_data"
    }
   ],
   "source": [
    "17.3\n",
    "\n",
    "from matplotlib.pylab import hist,show\n",
    "import matplotlib.pyplot as plt\n",
    "%matplotlib inline\n",
    "import math\n",
    "datos = [28.65,26.55,26.65,27.65,27.35,28.35,26.85,28.65,29.65,27.85,27.05,28.25,28.35,\n",
    "         26.75,27.65,28.45,28.65,28.45,31.65,26.35,27.75,29.25,27.65,28.65,27.65,28.55,27.55,27.25]\n",
    "n,med,p1,p2=28,0.0,0,0\n",
    "\n",
    "def media():\n",
    "    med=0.0\n",
    "    for i in range(0,n):\n",
    "        med += datos[i]\n",
    "    return med/n\n",
    "\n",
    "med = media()\n",
    "\n",
    "def varianza():\n",
    "    suma = 0.0\n",
    "    for j in range(n):\n",
    "        suma += (datos[j]-med)**2\n",
    "    var = suma/(n-1)\n",
    "    return var\n",
    "\n",
    "desviacion = math.sqrt(varianza())\n",
    "coeVariacion = (desviacion/med)\n",
    "intInf = med-(1.645*(desviacion/math.sqrt(n)))\n",
    "intSup = med+(1.645*(desviacion/math.sqrt(n)))\n",
    "\n",
    "print \"Media             Varianza           Desviacion estandar              Coeficiente de variacion\"\n",
    "print \"%f          %f           %f                         %f \"%(med,varianza(),desviacion,coeVariacion)\n",
    "print \"intervalo de confianza del 90%s (%f,%f)\"%(\"%\",intInf,intSup)\n",
    "datos.sort() \n",
    "print \"Valores inferior y superior que agrupa al 68%s de los datos (%f,%f)\"%(\"%\",med-desviacion,med+desviacion)\n",
    "\n",
    "hist(datos, bins=12)\n",
    "plt.title('Histograma')\n",
    "show()"
   ]
  },
  {
   "cell_type": "code",
   "execution_count": 8,
   "metadata": {
    "collapsed": false
   },
   "outputs": [
    {
     "name": "stdout",
     "output_type": "stream",
     "text": [
      "coeficiente de correlacion y vs x 0.921697\n",
      "coeficiente de correlacion x vs y 0.921697\n",
      "Error estándar de la estimación y vs x 1.065166\n",
      "Error estándar de la estimación x vs y 2.764432\n"
     ]
    },
    {
     "data": {
      "image/png": "[encoded data removed]",
      "text/plain": [
       "<matplotlib.figure.Figure at 0x821f0f0>"
      ]
     },
     "metadata": {},
     "output_type": "display_data"
    },
    {
     "data": {
      "image/png": "[encoded data removed]",
      "text/plain": [
       "<matplotlib.figure.Figure at 0x9120978>"
      ]
     },
     "metadata": {},
     "output_type": "display_data"
    },
    {
     "name": "stdout",
     "output_type": "stream",
     "text": [
      "El coeficiente de correlación es el mismo en ambos casos, porque así se cambien su relación sigue siendo directamente proporcional. En el primer caso los datos están menos dispersos comparado con el segundo caso, esto se puede validar comparando el error estándar de cada uno.\n"
     ]
    }
   ],
   "source": [
    "17.4\n",
    "import math\n",
    "import matplotlib.pyplot as plt\n",
    "import matplotlib.pyplot as plt2\n",
    "%matplotlib inline\n",
    "\n",
    "r,n,y2,y1,sumatoria,sumCuadrado,mult,t=0.0,10,[],[],0.0,0.0,1.0,[]\n",
    "x = [0,2,4,6,9,11,12,15,17,19]\n",
    "y = [5,6,7,6,9,8,7,10,12,12]\n",
    "def suma(vector):\n",
    "    sumatoria=0.0\n",
    "    for i in range(0,n):\n",
    "        sumatoria += vector[i]\n",
    "    return sumatoria\n",
    "def sumCuadrado(vector):\n",
    "    sumatoria=0.0\n",
    "    for i in range(0,n):\n",
    "        sumatoria += (vector[i])**2 \n",
    "    return sumatoria\n",
    "def multi(vector1,vector2):\n",
    "    mult = 1.0\n",
    "    for j in range(n):\n",
    "        mult += vector1[j]*vector2[j]\n",
    "    return mult\n",
    "def raices(vector):\n",
    "    raiz = math.sqrt(n*sumCuadrado(vector)-(suma(vector))**2)\n",
    "    return raiz\n",
    "def resolverPrimera():\n",
    "    nominador = n*(multi(x,y))-suma(x)*suma(y)\n",
    "    r = nominador/(raices(x)*raices(y))\n",
    "    return r\n",
    "def resolverSegunda():\n",
    "    nominador = n*(multi(y,x))-suma(y)*suma(x)\n",
    "    r = nominador/(raices(y)*raices(x))\n",
    "    return r\n",
    "def regresion1():\n",
    "    a1 = (n*multi(x,y)-(suma(x)*suma(y)))/(n*sumCuadrado(x)-suma(x)**2)\n",
    "    a0 = (suma(y)/n)-a1*(suma(x)/n)\n",
    "    Sr=0.0\n",
    "    for i in range(20):\n",
    "        y1.append(a0+a1*i)\n",
    "        t.append(i)\n",
    "    for k in range(n):\n",
    "        Sr += (y[k]-a0-a1*x[k])**2\n",
    "    error =  math.sqrt(Sr/(n-2))\n",
    "    print \"Error estándar de la estimación y vs x %f\"%(error)\n",
    "def regresion2():\n",
    "    a1 = (n*multi(y,x)-(suma(y)*suma(x)))/(n*sumCuadrado(y)-suma(y)**2)\n",
    "    a0 = (suma(x)/n)-a1*(suma(y)/n)\n",
    "    Sr=0.0\n",
    "    for i in range(20):\n",
    "        y2.append(a0+a1*i)\n",
    "    for k in range(0,n):\n",
    "        Sr += (x[k]-a0-a1*y[k])**2\n",
    "    error =  math.sqrt(Sr/(n-2))\n",
    "    print \"Error estándar de la estimación x vs y %f\"%(error)\n",
    "        \n",
    "print \"coeficiente de correlacion y vs x %f\"%resolverPrimera()\n",
    "print \"coeficiente de correlacion x vs y %f\"%resolverSegunda()\n",
    "regresion1()\n",
    "regresion2()\n",
    "plt.title('Y vs X')\n",
    "plt.ylabel('Y')\n",
    "plt.xlabel('X')\n",
    "plt.plot(x, y,'ro')\n",
    "plt.plot(t,y1)\n",
    "plt.axis([-5, 20, 0, 20])\n",
    "plt.grid(True)\n",
    "plt.show()\n",
    "plt2.title('X vs Y')\n",
    "plt2.ylabel('X')\n",
    "plt2.xlabel('Y')\n",
    "plt2.plot(y, x,'ro')\n",
    "plt2.plot(t,y2)\n",
    "plt2.axis([0, 20, -5, 20])\n",
    "plt2.grid(True)\n",
    "plt2.show()\n",
    "print \"El coeficiente de correlación es el mismo en ambos casos, porque así se cambien su relación sigue siendo directamente \\\n",
    "proporcional. En el primer caso los datos están menos dispersos comparado con el segundo caso, esto se puede validar comparando\\\n",
    " el error estándar de cada uno.\""
   ]
  },
  {
   "cell_type": "code",
   "execution_count": 9,
   "metadata": {
    "collapsed": false
   },
   "outputs": [
    {
     "name": "stdout",
     "output_type": "stream",
     "text": [
      "coeficiente de correlacion y vs x -0.900590\n",
      "Error estándar de la estimación y vs x 4.476316\n"
     ]
    },
    {
     "data": {
      "image/png": "[encoded data removed]",
      "text/plain": [
       "<matplotlib.figure.Figure at 0x8f3c4e0>"
      ]
     },
     "metadata": {},
     "output_type": "display_data"
    },
    {
     "name": "stdout",
     "output_type": "stream",
     "text": [
      "coeficiente de correlacion y vs x con medicion adicional -0.815026\n",
      "Error estándar de la estimación y vs x con medicion adicional 7.744861\n"
     ]
    },
    {
     "data": {
      "image/png": "[encoded data removed]",
      "text/plain": [
       "<matplotlib.figure.Figure at 0x8f3c240>"
      ]
     },
     "metadata": {},
     "output_type": "display_data"
    },
    {
     "name": "stdout",
     "output_type": "stream",
     "text": [
      "Si se introduce la medición adicional con x=10 y y=10 se puede concluir con base a la gráfica y el error estándar que la medición es inválida, debido a un aumento en el error estándar así como también se puede interpretar en la gráfica que es un valor atípico.\n"
     ]
    }
   ],
   "source": [
    "17.5\n",
    "r,n,y2,y1,sumatoria,sumCuadrado,mult,t0,t1=0.0,11,[],[],0.0,0.0,1.0,[],[]\n",
    "x = [6,7,11,15,17,21,23,29,29,37,39]\n",
    "y = [29,21,29,14,21,15,7,7,13,0,3]\n",
    "def suma(vector):\n",
    "    sumatoria=0.0\n",
    "    for i in range(0,n):\n",
    "        sumatoria += vector[i]\n",
    "    return sumatoria\n",
    "def sumCuadrado(vector):\n",
    "    sumatoria=0.0\n",
    "    for i in range(0,n):\n",
    "        sumatoria += (vector[i])**2 \n",
    "    return sumatoria\n",
    "def multi(vector1,vector2):\n",
    "    mult = 1.0\n",
    "    for j in range(n):\n",
    "        mult += vector1[j]*vector2[j]\n",
    "    return mult\n",
    "def raices(vector):\n",
    "    raiz = math.sqrt(n*sumCuadrado(vector)-(suma(vector))**2)\n",
    "    return raiz\n",
    "def resolverPrimera():\n",
    "    nominador = n*(multi(x,y))-suma(x)*suma(y)\n",
    "    r = nominador/(raices(x)*raices(y))\n",
    "    return r\n",
    "def resolverSegunda():\n",
    "    nominador = n*(multi(x,y))-suma(x)*suma(y)\n",
    "    r = nominador/(raices(x)*raices(y))\n",
    "    return r\n",
    "def regresion1():\n",
    "    a1 = (n*multi(x,y)-(suma(x)*suma(y)))/(n*sumCuadrado(x)-suma(x)**2)\n",
    "    a0 = (suma(y)/n)-a1*(suma(x)/n)\n",
    "    Sr=0.0\n",
    "    for i in range(50):\n",
    "        y1.append(a0+a1*i)\n",
    "        t0.append(i)\n",
    "    for k in range(n):\n",
    "        Sr += (y[k]-a0-a1*x[k])**2\n",
    "    error =  math.sqrt(Sr/(n-2))\n",
    "    print \"Error estándar de la estimación y vs x %f\"%(error)\n",
    "def regresion2():\n",
    "    a1 = (n*multi(y,x)-(suma(x)*suma(y)))/(n*sumCuadrado(x)-suma(x)**2)\n",
    "    a0 = (suma(y)/n)-a1*(suma(x)/n)\n",
    "    Sr=0.0\n",
    "    for i in range(-5,40):\n",
    "        y2.append(a0+a1*i)\n",
    "        t1.append(i)\n",
    "    for k in range(0,n):\n",
    "        Sr += (x[k]-a0-a1*y[k])**2\n",
    "    error =  math.sqrt(Sr/(n-2))\n",
    "    print \"Error estándar de la estimación y vs x con medicion adicional %f\"%(error)\n",
    "\n",
    "for i in range(2):\n",
    "    if (i==0):\n",
    "        print \"coeficiente de correlacion y vs x %f\"%resolverPrimera()\n",
    "        regresion1()\n",
    "        plt.ylabel('Y')\n",
    "        plt.xlabel('X')\n",
    "        plt.plot(x, y,'ro')\n",
    "        plt.plot(t0,y1)\n",
    "        plt.axis([-5, 50, -5, 50])\n",
    "        plt.grid(True)\n",
    "        plt.show()\n",
    "        x = [6,7,11,15,17,21,23,29,29,37,39,10]\n",
    "        y = [29,21,29,14,21,15,7,7,13,0,3,10]\n",
    "        n = 12;\n",
    "    if (i==1):\n",
    "        print \"coeficiente de correlacion y vs x con medicion adicional %f\"%resolverSegunda()\n",
    "        regresion2()\n",
    "        \n",
    "plt2.title('Con medicion adicional')\n",
    "plt2.ylabel('Y')\n",
    "plt2.xlabel('X')\n",
    "plt2.plot(x, y,'ro')\n",
    "plt2.plot(t1,y2)\n",
    "plt2.axis([-5, 50, -5, 50])\n",
    "plt2.grid(True)\n",
    "plt2.show()\n",
    "print \"Si se introduce la medición adicional con x=10 y y=10 se puede concluir con base a la gráfica y el error estándar que \\\n",
    "la medición es inválida, debido a un aumento en el error estándar así como también se puede interpretar en la gráfica que es un \\\n",
    "valor atípico.\""
   ]
  },
  {
   "cell_type": "code",
   "execution_count": 7,
   "metadata": {
    "collapsed": false
   },
   "outputs": [
    {
     "name": "stdout",
     "output_type": "stream",
     "text": [
      "coeficiente de correlacion x vs y 0.922782\n",
      "Error estándar de la estimación 1.562566\n"
     ]
    },
    {
     "data": {
      "image/png": "[encoded data removed]",
      "text/plain": [
       "<matplotlib.figure.Figure at 0x3f95a58>"
      ]
     },
     "metadata": {},
     "output_type": "display_data"
    }
   ],
   "source": [
    "17.6\n",
    "import math\n",
    "import matplotlib.pyplot as plt\n",
    "%matplotlib inline\n",
    "r,n,y2,y1,sumatoria,sumCuadrado,mult,t,a1,a0=0.0,9,[],[],0.0,0.0,1.0,[],0.0,0.0\n",
    "x = [2,4,6,7,10,11,14,17,20]\n",
    "y = [1,2,5,2,8,7,6,9,12]\n",
    "\n",
    "def suma(vector):\n",
    "    sumatoria=0.0\n",
    "    for i in range(0,n):\n",
    "        sumatoria += vector[i]\n",
    "    return sumatoria\n",
    "def sumCuadrado(vector):\n",
    "    sumatoria=0.0\n",
    "    for i in range(0,n):\n",
    "        sumatoria += (vector[i])**2 \n",
    "    return sumatoria\n",
    "def multi(vector1,vector2):\n",
    "    mult = 1.0\n",
    "    for j in range(n):\n",
    "        mult += vector1[j]*vector2[j]\n",
    "    return mult\n",
    "def raices(vector):\n",
    "    raiz = math.sqrt(n*sumCuadrado(vector)-(suma(vector))**2)\n",
    "    return raiz\n",
    "def resolver():\n",
    "    nominador = n*(multi(x,y))-suma(x)*suma(y)\n",
    "    r = nominador/(raices(x)*raices(y))\n",
    "    return r\n",
    "def regresion():\n",
    "    global a1\n",
    "    a1 = (n*multi(x,y)-(suma(x)*suma(y)))/(n*sumCuadrado(x)-suma(x)**2)\n",
    "    a0 = (suma(y)/n)-a1*(suma(x)/n)\n",
    "    Sr=0.0\n",
    "    for k in range(n):\n",
    "        y1.append(a1*k+a0)\n",
    "        t.append(k)\n",
    "        Sr += (y[k]-a0-a1*x[k])**2\n",
    "    error =  math.sqrt(Sr/(n-2))\n",
    "    print \"Error estándar de la estimación %f\"%(error)\n",
    "    \n",
    "    for i in range(30):  \n",
    "        y1.append(a1*i+a0)\n",
    "        t.append(i)\n",
    "    \n",
    "#math.log(y) = math.log(a1)+math.log(x)+1\n",
    "print \"coeficiente de correlacion x vs y %f\"%resolver()\n",
    "regresion()\n",
    "\n",
    "plt.ylabel('Y')\n",
    "plt.xlabel('X')\n",
    "plt.plot(x, y,'ro')\n",
    "plt.plot(t,y1)\n",
    "plt.axis([-5, 30, -5, 20])\n",
    "plt.grid(True)\n",
    "plt.show()"
   ]
  },
  {
   "cell_type": "code",
   "execution_count": null,
   "metadata": {
    "collapsed": true
   },
   "outputs": [],
   "source": []
  }
 ],
 "metadata": {
  "kernelspec": {
   "display_name": "Python 2",
   "language": "python",
   "name": "python2"
  },
  "language_info": {
   "codemirror_mode": {
    "name": "ipython",
    "version": 2
   },
   "file_extension": ".py",
   "mimetype": "text/x-python",
   "name": "python",
   "nbconvert_exporter": "python",
   "pygments_lexer": "ipython2",
   "version": "2.7.11"
  }
 },
 "nbformat": 4,
 "nbformat_minor": 0
}
