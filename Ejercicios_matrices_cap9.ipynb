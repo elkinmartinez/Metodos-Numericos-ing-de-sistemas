{
 "cells": [
  {
   "cell_type": "code",
   "execution_count": null,
   "metadata": {
    "collapsed": true
   },
   "outputs": [],
   "source": [
    "9.1\n",
    "a) Escriba en forma matricial el conjunto siguiente de ecuaciones:\n",
    "50 = 5x3 + 2x2\n",
    "10 – x1 = x3\n",
    "3x2 + 8x1 = 20\n",
    "b) Escriba la transpuesta de la matriz de coeficientes.\n",
    "\n",
    "Solucion\n",
    "a)\n",
    "0     2     5\n",
    "1     0     1\n",
    "8     3     0\n",
    "b)\n",
    "0     1     8\n",
    "2     0     3\n",
    "5     1     0"
   ]
  },
  {
   "cell_type": "code",
   "execution_count": null,
   "metadata": {
    "collapsed": true
   },
   "outputs": [],
   "source": [
    "9.2 Ciertas matrices estan definidas como sigue\n",
    "     4    7           4    3    7           3            9   4   3  -6\n",
    "[A]= 1    2      [B]= 1    2    7     [C]=  6       [D]= 2  -1   7   5 \n",
    "     5    6           1    0    4           1\n",
    "     \n",
    "     1   5   8            3    0    1\n",
    "[E]= 7   2   3       [F]= 1    7    3         [G]= [7   6    4]\n",
    "     4   0   6\n",
    "     \n",
    "En relación con estas matrices responda las preguntas siguientes:\n",
    "a) ¿Cuáles son las dimensiones de las matrices?\n",
    "b) Identifique las matrices cuadrada, columna y renglón.\n",
    "c) ¿Cuáles son los valores de los elementos a12, b23, d32, e22, f12 y g12?\n",
    "d) Ejecute las operaciones siguientes:\n",
    "1) [E] + [B]         7) [B] × [A]\n",
    "2) [A] + [F]         8) [D]T\n",
    "3) [B] – [E]         9) [A] × {C}\n",
    "4) 7 × [B]          10) [I] × [B]\n",
    "5) [E] × [B]        11) [E]T [E]\n",
    "6) {C}T             12) {C}T {C}\n",
    "\n",
    "Solucion \n",
    "a) \n",
    "matriz[A] 3x2,  matriz[B] 3x3,  matriz[C] 3x1,  matriz[D] 2x4,  matriz[E] 3x3,  matriz[F] 2x3,  matriz[G] 1x3\n",
    "b)\n",
    "cuadrada: [B] y [E]\n",
    "columna: [C]\n",
    "renglon: [G]\n",
    "c)\n",
    "a12=7, b23=7, d32=no existe esta posicion, e22=2, f12=0 y g12=6\n",
    "\n"
   ]
  },
  {
   "cell_type": "code",
   "execution_count": 1,
   "metadata": {
    "collapsed": false
   },
   "outputs": [
    {
     "name": "stdout",
     "output_type": "stream",
     "text": [
      "[[5, 8, 15], [8, 4, 10], [5, 0, 10]]\n"
     ]
    }
   ],
   "source": [
    "#  d)\n",
    "1. \n",
    "#  [E]+[B]\n",
    "E,B,suma,j,f = [],[],[],0,0\n",
    "\n",
    "for i in range(3):\n",
    "    E.append([0]*3)\n",
    "    B.append([0]*3)\n",
    "    suma.append([0]*3)\n",
    "    \n",
    "E[0][0],E[0][1],E[0][2],E[1][0],E[1][1],E[1][2],E[2][0],E[2][1],E[2][2] = 1,5,8,7,2,3,4,0,6\n",
    "B[0][0],B[0][1],B[0][2],B[1][0],B[1][1],B[1][2],B[2][0],B[2][1],B[2][2] = 4,3,7,1,2,7,1,0,4\n",
    "\n",
    "for i in range(9):\n",
    "    suma[j][f] = E[j][f]+B[j][f]\n",
    "    f = f+1\n",
    "    if (f==3):\n",
    "        f = 0\n",
    "        j = j+1\n",
    "        \n",
    "print suma\n",
    "#     5   8   15\n",
    "#     8   4   10\n",
    "#     5   0   10"
   ]
  },
  {
   "cell_type": "code",
   "execution_count": null,
   "metadata": {
    "collapsed": true
   },
   "outputs": [],
   "source": [
    "2. No se pueden sumar las matrices [A]+[F] por sus dimensiones."
   ]
  },
  {
   "cell_type": "code",
   "execution_count": 2,
   "metadata": {
    "collapsed": false
   },
   "outputs": [
    {
     "name": "stdout",
     "output_type": "stream",
     "text": [
      "[[3, -2, -1], [-6, 0, 4], [-3, 0, -2]]\n"
     ]
    }
   ],
   "source": [
    "3.\n",
    "#  [B]-[E]\n",
    "E,B,resta,j,f = [],[],[],0,0\n",
    "\n",
    "for i in range(3):\n",
    "    E.append([0]*3)\n",
    "    B.append([0]*3)\n",
    "    resta.append([0]*3)\n",
    "    \n",
    "E[0][0],E[0][1],E[0][2],E[1][0],E[1][1],E[1][2],E[2][0],E[2][1],E[2][2] = 1,5,8,7,2,3,4,0,6\n",
    "B[0][0],B[0][1],B[0][2],B[1][0],B[1][1],B[1][2],B[2][0],B[2][1],B[2][2] = 4,3,7,1,2,7,1,0,4\n",
    "\n",
    "for i in range(9):\n",
    "    resta[j][f] = B[j][f]-E[j][f]\n",
    "    f = f+1\n",
    "    if (f==3):\n",
    "        f = 0\n",
    "        j = j+1\n",
    "        \n",
    "print resta\n",
    "#     3   -2   -1\n",
    "#    -6    0    4\n",
    "#    -3    0   -2"
   ]
  },
  {
   "cell_type": "code",
   "execution_count": 3,
   "metadata": {
    "collapsed": false
   },
   "outputs": [
    {
     "name": "stdout",
     "output_type": "stream",
     "text": [
      "[[28, 21, 49], [7, 14, 49], [7, 0, 28]]\n"
     ]
    }
   ],
   "source": [
    "4.\n",
    "B,producto,j,f = [],[],0,0\n",
    "\n",
    "for i in range(3):\n",
    "    B.append([0]*3)\n",
    "    producto.append([0]*3)\n",
    "    \n",
    "B[0][0],B[0][1],B[0][2],B[1][0],B[1][1],B[1][2],B[2][0],B[2][1],B[2][2] = 4,3,7,1,2,7,1,0,4\n",
    "\n",
    "for i in range(9):\n",
    "    producto[j][f] = 7*B[j][f]\n",
    "    f = f+1\n",
    "    if (f==3):\n",
    "        f = 0\n",
    "        j = j+1\n",
    "        \n",
    "print producto\n",
    "#     28    21    49\n",
    "#      7    14    49\n",
    "#      7     0    28"
   ]
  },
  {
   "cell_type": "code",
   "execution_count": 4,
   "metadata": {
    "collapsed": false
   },
   "outputs": [
    {
     "name": "stdout",
     "output_type": "stream",
     "text": [
      "[[17, 13, 74], [33, 25, 75], [22, 12, 52]]\n"
     ]
    }
   ],
   "source": [
    "5.\n",
    "# [E] x [B]\n",
    "E,B,mult=[],[],[]\n",
    "for i in range(3):\n",
    "    E.append([0]*3)\n",
    "    B.append([0]*3)\n",
    "    mult.append([0]*3)\n",
    "    \n",
    "E[0][0],E[0][1],E[0][2],E[1][0],E[1][1],E[1][2],E[2][0],E[2][1],E[2][2] = 1,5,8,7,2,3,4,0,6\n",
    "B[0][0],B[0][1],B[0][2],B[1][0],B[1][1],B[1][2],B[2][0],B[2][1],B[2][2] = 4,3,7,1,2,7,1,0,4\n",
    "\n",
    "for x in range(3):\n",
    "    for y in range(len(mult[x])):\n",
    "        for z in range(len(E[0])):\n",
    "            mult[x][y] += E[x][z]*B[z][y]\n",
    "print mult\n",
    "\n",
    "#    17     13     74\n",
    "#    33     25     75\n",
    "#    22     12     52"
   ]
  },
  {
   "cell_type": "code",
   "execution_count": 5,
   "metadata": {
    "collapsed": false
   },
   "outputs": [
    {
     "name": "stdout",
     "output_type": "stream",
     "text": [
      "[[3, 6, 1]]\n"
     ]
    }
   ],
   "source": [
    "6.\n",
    "C,T=[],[]\n",
    "for i in range(3):\n",
    "    C.append([0])\n",
    "    \n",
    "C[0][0],C[1][0],C[2][0] = 3,6,1\n",
    "    \n",
    "T.append([0]*3)\n",
    "for j in range(3):\n",
    "     T[0][j]=C[j][0]\n",
    "print T\n",
    "\n",
    "#  [3    6    1]"
   ]
  },
  {
   "cell_type": "code",
   "execution_count": 6,
   "metadata": {
    "collapsed": false
   },
   "outputs": [
    {
     "name": "stdout",
     "output_type": "stream",
     "text": [
      "[[54, 76], [41, 53], [24, 31]]\n"
     ]
    }
   ],
   "source": [
    "7.\n",
    "# [B] x [A]\n",
    "A,B,mult=[],[],[]\n",
    "for i in range(3):\n",
    "    B.append([0]*3)\n",
    "    A.append([0]*2)\n",
    "for j in range(3):\n",
    "    mult.append([0]*2)\n",
    "    \n",
    "A[0][0],A[0][1],A[1][0],A[1][1],A[2][0],A[2][1] = 4,7,1,2,5,6\n",
    "B[0][0],B[0][1],B[0][2],B[1][0],B[1][1],B[1][2],B[2][0],B[2][1],B[2][2] = 4,3,7,1,2,7,1,0,4\n",
    "for x in range(3):\n",
    "    for y in range(len(mult[x])):\n",
    "        for z in range(len(B[0])):\n",
    "            mult[x][y] += B[x][z]*A[z][y]\n",
    "print mult\n",
    "\n",
    "#    54     76 \n",
    "#    41     53\n",
    "#    24     31"
   ]
  },
  {
   "cell_type": "code",
   "execution_count": 7,
   "metadata": {
    "collapsed": false
   },
   "outputs": [
    {
     "name": "stdout",
     "output_type": "stream",
     "text": [
      "[[9, 2], [4, -1], [3, 7], [-6, 5]]\n"
     ]
    }
   ],
   "source": [
    "8.\n",
    "D,T=[],[]\n",
    "for i in range(2):\n",
    "    D.append([0]*4)\n",
    "for j in range(4):\n",
    "    T.append([0]*2)\n",
    "    \n",
    "D[0][0],D[0][1],D[0][2],D[0][3],D[1][0],D[1][1],D[1][2],D[1][3] = 9,4,3,-6,2,-1,7,5\n",
    "\n",
    "for k in range(2):\n",
    "    for l in range(4):\n",
    "        T[l][k]=D[k][l]\n",
    "        \n",
    "print T\n",
    "#     9      2\n",
    "#     4     -1\n",
    "#     3      7\n",
    "#    -6      5"
   ]
  },
  {
   "cell_type": "code",
   "execution_count": null,
   "metadata": {
    "collapsed": true
   },
   "outputs": [],
   "source": [
    "9. No se pueden multiplicar las matrices por sus dimensiones.\n"
   ]
  },
  {
   "cell_type": "code",
   "execution_count": 8,
   "metadata": {
    "collapsed": false
   },
   "outputs": [
    {
     "name": "stdout",
     "output_type": "stream",
     "text": [
      "[[4, 3, 7], [1, 2, 7], [1, 0, 4]]\n"
     ]
    }
   ],
   "source": [
    "10.\n",
    "# [I] x [B]\n",
    "I,B,mult=[],[],[]\n",
    "for i in range(3):\n",
    "    I.append([0]*3)\n",
    "    B.append([0]*3)\n",
    "    mult.append([0]*3)\n",
    "    \n",
    "I[0][0],I[0][1],I[0][2],I[1][0],I[1][1],I[1][2],I[2][0],I[2][1],I[2][2] = 1,0,0,0,1,0,0,0,1\n",
    "B[0][0],B[0][1],B[0][2],B[1][0],B[1][1],B[1][2],B[2][0],B[2][1],B[2][2] = 4,3,7,1,2,7,1,0,4\n",
    "\n",
    "for x in range(3):\n",
    "    for y in range(len(mult[x])):\n",
    "        for z in range(len(I[0])):\n",
    "            mult[x][y] += I[x][z]*B[z][y]\n",
    "print mult\n",
    "#    4     3     7\n",
    "#    1     2     7\n",
    "#    1     0     4\n"
   ]
  },
  {
   "cell_type": "code",
   "execution_count": 1,
   "metadata": {
    "collapsed": false
   },
   "outputs": [
    {
     "name": "stdout",
     "output_type": "stream",
     "text": [
      "[[66, 19, 53], [19, 29, 46], [53, 46, 109]]\n"
     ]
    }
   ],
   "source": [
    "11.\n",
    "E,ET,mult=[],[],[]\n",
    "for i in range(3):\n",
    "    E.append([0]*3)\n",
    "    ET.append([0]*3)\n",
    "    mult.append([0]*3)\n",
    "    \n",
    "E[0][0],E[0][1],E[0][2],E[1][0],E[1][1],E[1][2],E[2][0],E[2][1],E[2][2] = 1,5,8,7,2,3,4,0,6\n",
    "\n",
    "for k in range(3):\n",
    "    for l in range(3):\n",
    "        ET[l][k]=E[k][l]\n",
    "\n",
    "for x in range(3):\n",
    "    for y in range(len(mult[x])):\n",
    "        for z in range(len(ET[0])):\n",
    "            mult[x][y] += ET[x][z]*E[z][y]\n",
    "print mult        "
   ]
  },
  {
   "cell_type": "code",
   "execution_count": 2,
   "metadata": {
    "collapsed": false
   },
   "outputs": [
    {
     "name": "stdout",
     "output_type": "stream",
     "text": [
      "[[46]]\n"
     ]
    }
   ],
   "source": [
    "12.\n",
    "C,CT,mult=[],[],[]\n",
    "for i in range(3):\n",
    "    C.append([0])\n",
    "    \n",
    "C[0][0],C[1][0],C[2][0] = 3,6,1\n",
    "CT.append([0]*3)\n",
    "\n",
    "mult.append([0])      \n",
    "for j in range(3):\n",
    "     CT[0][j]=C[j][0]\n",
    "for x in range(1):\n",
    "    for y in range(len(mult[x])):\n",
    "        for z in range(len(CT[0])):\n",
    "            mult[x][y] += CT[x][z]*C[z][y]     \n",
    "            \n",
    "print mult\n"
   ]
  },
  {
   "cell_type": "code",
   "execution_count": 9,
   "metadata": {
    "collapsed": false
   },
   "outputs": [
    {
     "name": "stdout",
     "output_type": "stream",
     "text": [
      "[A]x[B]\n",
      "[[4.0, 15], [8.0, 29], [9.0, 29]]\n",
      "[A]x[C]\n",
      "[[-16, 4], [-24, 4], [2, -10]]\n",
      "[B]x[C]\n",
      "[[-7, 1], [-5.0, 1.0]]\n",
      "[C]x[B]\n",
      "[[1.0, 2], [-2.5, -7]]\n"
     ]
    }
   ],
   "source": [
    "9.3\n",
    "#    a)\n",
    "A,B,C,mult1,mult2,mult3,mult4=[],[],[],[],[],[],[]\n",
    "for i in range(3):\n",
    "    A.append([0]*2)\n",
    "    mult1.append([0]*2)\n",
    "    mult2.append([0]*2)\n",
    "for j in range(2):\n",
    "    B.append([0]*2)\n",
    "    C.append([0]*2)\n",
    "    mult3.append([0]*2)\n",
    "    mult4.append([0]*2)\n",
    "    \n",
    "A[0][0],A[0][1],A[1][0],A[1][1],A[2][0],A[2][1] = 1,6,3,10,7,4\n",
    "B[0][0],B[0][1],B[1][0],B[1][1] = 1,3,0.5,2\n",
    "C[0][0],C[0][1],C[1][0],C[1][1] = 2,-2,-3,1\n",
    "\n",
    "\n",
    "def multiplicar(mult,X,Y,n):\n",
    "    for x in range(n):\n",
    "        for y in range(len(mult[x])):\n",
    "            for z in range(len(X[0])):\n",
    "                mult[x][y] += X[x][z]*Y[z][y]\n",
    "    return mult\n",
    "print \"[A]x[B]\"\n",
    "print multiplicar(mult1,A,B,3)\n",
    "print \"[A]x[C]\"\n",
    "print multiplicar(mult2,A,C,3) \n",
    "print \"[B]x[C]\"\n",
    "print multiplicar(mult3,B,C,2) \n",
    "print \"[C]x[B]\"\n",
    "print multiplicar(mult4,C,B,2) \n"
   ]
  },
  {
   "cell_type": "markdown",
   "metadata": {},
   "source": [
    "9.3\n",
    " b)   y    c)\n",
    " \n",
    "Es imposible multiplicar matrices de filas y columnas distintas por que la multiplicacion \n",
    "se hace termino a termino de cada fila por cada columna de la otra matriz\n"
   ]
  },
  {
   "cell_type": "code",
   "execution_count": 7,
   "metadata": {
    "collapsed": false
   },
   "outputs": [
    {
     "name": "stdout",
     "output_type": "stream",
     "text": [
      "La solucion en x1 es 4.0\n",
      "la solucion en x2 es 5.0\n"
     ]
    }
   ],
   "source": [
    "9.4\n",
    "import matplotlib.pyplot as plt\n",
    "x,fun1,fun2,itera,n=0.0,[],[],[],0\n",
    "while x<10:\n",
    "    itera.append(x)\n",
    "    x1 = (x+6)*0.5\n",
    "    y1 = (34-x)*6**(-1)\n",
    "    fun1.append(x1)\n",
    "    fun2.append(y1)\n",
    "    if (x1==y1):\n",
    "        print \"La solucion en x1 es %s\" % (x)\n",
    "        print \"la solucion en x2 es %s\"% (x1)\n",
    "    x = x+1\n",
    "    \n",
    "plt.ylabel('y')\n",
    "plt.xlabel('x')\n",
    "plt.plot(itera, fun1,label = '4x1-8x2')\n",
    "plt.plot(itera, fun2,label = 'x1+6x2')\n",
    "plt.plot(4,5,'co',label='pto corte:\\nx1=4\\nx2=5')\n",
    "plt.axis([-5, 10, 0, 10])   \n",
    "plt.legend(loc='upper left',numpoints=1)\n",
    "plt.grid(True)\n",
    "plt.show()\n",
    "\n",
    "#    x1 = 4\n",
    "#    x2 = 5"
   ]
  },
  {
   "cell_type": "code",
   "execution_count": 3,
   "metadata": {
    "collapsed": false
   },
   "outputs": [
    {
     "name": "stdout",
     "output_type": "stream",
     "text": [
      "El valor de las x es correcto\n"
     ]
    }
   ],
   "source": [
    "#   comprobacion 9.4\n",
    "x1,x2,fun,fun2 = 4,5,0.0,0.0\n",
    "fun = 4*x1 - 8*x2\n",
    "fun2 = x1 + 6*x2                                    \n",
    "\n",
    "if (fun==-24 and fun2==34):\n",
    "    print \"El valor de las x es correcto\""
   ]
  },
  {
   "cell_type": "code",
   "execution_count": 11,
   "metadata": {
    "collapsed": false
   },
   "outputs": [
    {
     "name": "stdout",
     "output_type": "stream",
     "text": [
      "la solucion en x1 es 404.0\n",
      "La solucion en x2 es 56.44\n",
      "la solucion en x1 es 405.0\n",
      "La solucion en x2 es 56.55\n"
     ]
    }
   ],
   "source": [
    "9.5\n",
    "#  a)\n",
    "import matplotlib.pyplot as plt\n",
    "x,fun1,fun2,itera,n,aux1,aux2=200.0,[],[],[],0,0.0,0.0\n",
    "while x<600:\n",
    "    itera.append(x)\n",
    "    x1 = round((120+1.1*x)*10**(-1),2)\n",
    "    y1 = round((174+2*x)*17.4**(-1),2)\n",
    "    fun1.append(x1)\n",
    "    fun2.append(y1)\n",
    "    if (x1==y1):\n",
    "        print \"la solucion en x1 es %s\"% (x)\n",
    "        print \"La solucion en x2 es %s\" % (x1)\n",
    "    x = x+1\n",
    "plt.ylabel('y')\n",
    "plt.xlabel('x')\n",
    "plt.plot(itera, fun1)\n",
    "plt.plot(itera, fun2)\n",
    "plt.plot(405,56.55,'co',label='pto corte:\\nx1=404.6512\\nx2=56.5116')\n",
    "plt.axis([200, 600, 20, 90])   \n",
    "plt.grid(True)\n",
    "plt.legend(loc='upper left',numpoints=1)\n",
    "plt.show()"
   ]
  },
  {
   "cell_type": "markdown",
   "metadata": {},
   "source": [
    "b)\n",
    "el sistema tiende a tener interseccion en muchos puntos."
   ]
  },
  {
   "cell_type": "code",
   "execution_count": 13,
   "metadata": {
    "collapsed": false
   },
   "outputs": [
    {
     "name": "stdout",
     "output_type": "stream",
     "text": [
      "0.86\n"
     ]
    }
   ],
   "source": [
    "#     c)\n",
    "\n",
    "det,m=0.0,[]\n",
    "for i in range(2):\n",
    "    m.append([0]*2)\n",
    "    \n",
    "m[0][0],m[0][1],m[1][0],m[1][1] = -1.1,10,-2,17.4\n",
    "det = m[0][0]*m[1][1]-m[0][1]*m[1][0]\n",
    "print det\n",
    "\n",
    "#determinante = 0.86"
   ]
  },
  {
   "cell_type": "code",
   "execution_count": 10,
   "metadata": {
    "collapsed": false
   },
   "outputs": [
    {
     "name": "stdout",
     "output_type": "stream",
     "text": [
      "\n",
      "El valor de la incognita X1 es 404.651163\n",
      "\n",
      "El valor de la incognita X2 es 56.511628\n"
     ]
    }
   ],
   "source": [
    "#    d)\n",
    "m,r,x,d,y,i,j,k,h,n = [],[],[],0.0,0.0,0,0,0,0,2\n",
    "for z in range(0,n):\n",
    "    m.append([0.0]*n)\n",
    "r.append([0.0]*n)\n",
    "m[0][0],m[0][1],m[1][0],m[1][1] = -1.1,10,-2,17.4\n",
    "r=[120.0,174.0]\n",
    "x=[0.0,0.0]\n",
    "\n",
    "for i in range(0,n):\n",
    "    for j in range(i,n):\n",
    "        if (i==j):\n",
    "            d = m[i][j]\n",
    "            for s in range (0,n):\n",
    "                m[i][s]=((m[i][s])/d)\n",
    "            r[i]=((r[i])/d)\n",
    "        else:\n",
    "            d=m[j][i]\n",
    "            for s in range (0,n):\n",
    "                m[j][s]=m[j][s]-(d*m[i][s])\n",
    "            r[j]=r[j]-(d*r[i])\n",
    "i=n-1\n",
    "j=n-1\n",
    "\n",
    "while (i>=0):\n",
    "    y = r[i]\n",
    "    while (j>=i):\n",
    "        y=y-x[j]*m[i][j]\n",
    "        j -= 1\n",
    "    x[i]=y\n",
    "    i -= 1\n",
    "    j=n-1\n",
    "for i in range(0,n):\n",
    "    k=i+1\n",
    "    print \"\"\n",
    "    print \"El valor de la incognita X%d es %f\"%(k,x[i])"
   ]
  },
  {
   "cell_type": "code",
   "execution_count": 3,
   "metadata": {
    "collapsed": false
   },
   "outputs": [
    {
     "name": "stdout",
     "output_type": "stream",
     "text": [
      "Resultados\n",
      "X1 = 1.000000      \n"
     ]
    }
   ],
   "source": [
    "9.6\n",
    "#   a)\n",
    "x,y,z,det1,det2= [],[],[],0.0,0.0\n",
    "x=[0,2,3]\n",
    "y=[2,1,1]\n",
    "z=[5,1,0]\n",
    "def resolver(x1,y1,z1):\n",
    "    for j in range(3):\n",
    "        if (j==0):\n",
    "            det1=x1[j]*y1[j+1]*z1[j+2]\n",
    "            det2=x1[j+2]*y1[j+1]*z1[j] \n",
    "        if (j==1):\n",
    "            det1= det1+ (y1[j-1]*z1[j]*x1[j+1])\n",
    "            det2= det2+ (y1[j+1]*z1[j]*x1[j-1])\n",
    "        if (j==2):\n",
    "            det1= det1+ (y1[j]*z1[j-2]*x1[j-1])\n",
    "            det2= det2+ (y1[j-2]*z1[j]*x1[j-1])\n",
    "    return det1-det2\n",
    "detPrin = resolver(x,y,z)\n",
    "\n",
    "print \"Resultados\"\n",
    "print \"X1 = %f      \" %(detPrin)\n",
    "\n",
    "#determinante=1"
   ]
  },
  {
   "cell_type": "code",
   "execution_count": 4,
   "metadata": {
    "collapsed": false
   },
   "outputs": [
    {
     "name": "stdout",
     "output_type": "stream",
     "text": [
      "Resultados\n",
      "X1 = 6.000000                 X2 = -8.000000                X3 = 5.000000\n"
     ]
    }
   ],
   "source": [
    "#  b)\n",
    "x,y,z,i,det1,det2,a= [],[],[],[],0.0,0.0,1\n",
    "\n",
    "x=[0,2,3]\n",
    "y=[2,1,1]\n",
    "z=[5,1,0]\n",
    "i=[9,9,10]\n",
    "\n",
    "def resolver(x1,y1,z1):\n",
    "    for j in range(3):\n",
    "        if (j==0):\n",
    "            det1=x1[j]*y1[j+1]*z1[j+2]\n",
    "            det2=x1[j+2]*y1[j+1]*z1[j] \n",
    "        if (j==1):\n",
    "            det1= det1+ (y1[j-1]*z1[j]*x1[j+1])\n",
    "            det2= det2+ (y1[j+1]*z1[j]*x1[j-1])\n",
    "        if (j==2):\n",
    "            det1= det1+ (y1[j]*z1[j-2]*x1[j-1])\n",
    "            det2= det2+ (y1[j-2]*z1[j]*x1[j-1])\n",
    "    return det1-det2\n",
    "detPrin = resolver(x,y,z)\n",
    "resul1 = resolver(i,y,z)/detPrin\n",
    "resul2 = resolver(x,i,z)/detPrin\n",
    "resul3 = resolver(x,y,i)/detPrin\n",
    "print \"Resultados\"\n",
    "print \"X1 = %f                 X2 = %f                X3 = %f\" %(resul1,resul2,resul3)"
   ]
  },
  {
   "cell_type": "code",
   "execution_count": 12,
   "metadata": {
    "collapsed": false
   },
   "outputs": [
    {
     "name": "stdout",
     "output_type": "stream",
     "text": [
      "El valor de las x es correcto\n"
     ]
    }
   ],
   "source": [
    "#  c)\n",
    "x1,x2,x3,fun = 6,-8,5,0\n",
    "fun = 2*x1 + x2 + x3\n",
    "fun2 = 3*x1 + x2\n",
    "fun3 = 2*x2 + 5*x3\n",
    "if (fun==9 and fun2==10 and fun3==9):\n",
    "    print \"El valor de las x es correcto\""
   ]
  },
  {
   "cell_type": "code",
   "execution_count": 17,
   "metadata": {
    "collapsed": false
   },
   "outputs": [
    {
     "name": "stdout",
     "output_type": "stream",
     "text": [
      "La solucion en x1 es 10.0\n",
      "la solucion en x2 es 14.5\n"
     ]
    }
   ],
   "source": [
    "9.7\n",
    "#  a)\n",
    "import matplotlib.pyplot as plt\n",
    "x,fun1,fun2,itera,n=0.0,[],[],[],0\n",
    "while x<50:\n",
    "    itera.append(x)\n",
    "    x1 = 0.5*x+9.5\n",
    "    y1 = (1.02*x+18.8)*0.5\n",
    "    fun1.append(x1)\n",
    "    fun2.append(y1)\n",
    "    if (x1==y1):\n",
    "        print \"La solucion en x1 es %s\" % (x)\n",
    "        print \"la solucion en x2 es %s\"% (x1)\n",
    "    x = x+1\n",
    "    \n",
    "plt.ylabel('y')\n",
    "plt.xlabel('x')\n",
    "plt.plot(itera, fun1,label = '0.5x1-x2')\n",
    "plt.plot(itera, fun2,label = '1.02x1-2x2')\n",
    "plt.plot(10,14.5,'co',label='pto corte:\\nx1=10\\nx2=14.5')\n",
    "plt.axis([0, 30,8, 20])   \n",
    "plt.legend(loc='upper left',numpoints=1)\n",
    "plt.grid(True)\n",
    "plt.show()\n",
    "\n",
    "#   x1=10\n",
    "#   x2=14.5"
   ]
  },
  {
   "cell_type": "code",
   "execution_count": 13,
   "metadata": {
    "collapsed": false
   },
   "outputs": [
    {
     "name": "stdout",
     "output_type": "stream",
     "text": [
      "0.02\n"
     ]
    }
   ],
   "source": [
    "#  b)\n",
    "det,m=0.0,[]\n",
    "for i in range(2):\n",
    "    m.append([0]*2)\n",
    "    \n",
    "m[0][0],m[0][1],m[1][0],m[1][1] = 0.5,-1,1.02,-2\n",
    "det = m[0][0]*m[1][1]-m[0][1]*m[1][0]\n",
    "print det\n",
    "\n",
    "#determinante = 0.02"
   ]
  },
  {
   "cell_type": "markdown",
   "metadata": {},
   "source": [
    "c)   el sistema tiende a tener interseccion en muchos puntos.\n"
   ]
  },
  {
   "cell_type": "code",
   "execution_count": 20,
   "metadata": {
    "collapsed": false
   },
   "outputs": [
    {
     "name": "stdout",
     "output_type": "stream",
     "text": [
      "\n",
      "El valor de la incognita X1 es 10.000000\n",
      "\n",
      "El valor de la incognita X2 es 14.500000\n",
      "\n",
      "El valor de la incognita X1 es -10.000000\n",
      "\n",
      "El valor de la incognita X2 es 4.300000\n"
     ]
    }
   ],
   "source": [
    "#     d) y e)\n",
    "m,r,x,d,y,i,j,k,h,n,m1,m2 = [],[],[],0.0,0.0,0,0,0,0,2,[],[]\n",
    "for z in range(0,n):\n",
    "    m.append([0.0]*n)\n",
    "    m1.append([0.0]*n)\n",
    "    m2.append([0.0]*n)\n",
    "\n",
    "m1[0][0],m1[0][1],m1[1][0],m1[1][1] = 0.5,-1,1.02,-2\n",
    "m2[0][0],m2[0][1],m2[1][0],m2[1][1] = 0.52,-1,1.02,-2\n",
    "\n",
    "def resolver(m):\n",
    "    r=[-9.5,-18.8]\n",
    "    x=[0.0,0.0]\n",
    "    for i in range(0,n):\n",
    "        for j in range(i,n):\n",
    "            if (i==j):\n",
    "                d = m[i][j]\n",
    "                for s in range (0,n):\n",
    "                    m[i][s]=((m[i][s])/d)\n",
    "                r[i]=((r[i])/d)\n",
    "            else:\n",
    "                d=m[j][i]\n",
    "                for s in range (0,n):\n",
    "                    m[j][s]=m[j][s]-(d*m[i][s])\n",
    "                r[j]=r[j]-(d*r[i])\n",
    "    i=n-1\n",
    "    j=n-1\n",
    "\n",
    "    while (i>=0):\n",
    "        y = r[i]\n",
    "        while (j>=i):\n",
    "            y=y-x[j]*m[i][j]\n",
    "            j -= 1\n",
    "        x[i]=y\n",
    "        i -= 1\n",
    "        j=n-1\n",
    "    for i in range(0,n):\n",
    "        k=i+1\n",
    "        print \"\"\n",
    "        print \"El valor de la incognita X%d es %f\"%(k,x[i])\n",
    "        \n",
    "resolver(m1)\n",
    "resolver(m2)\n",
    "\n",
    "#   resultados con a11=0.5\n",
    "#    x1=10\n",
    "#    x2=14.5\n",
    "#   resultados con a11=0.52\n",
    "#    x1=-10\n",
    "#    x2=4.3"
   ]
  },
  {
   "cell_type": "code",
   "execution_count": 4,
   "metadata": {
    "collapsed": false
   },
   "outputs": [
    {
     "name": "stdout",
     "output_type": "stream",
     "text": [
      "\n",
      "El valor de la incognita X1 es 0.500000\n",
      "\n",
      "El valor de la incognita X2 es 8.000000\n",
      "\n",
      "El valor de la incognita X3 es -6.000000\n"
     ]
    }
   ],
   "source": [
    "9.8\n",
    "#   a)\n",
    "\n",
    "m,r,x,d,y,i,j,k,h,n = [],[],[],0.0,0.0,0,0,0,0,3\n",
    "for z in range(0,n):\n",
    "    m.append([0.0]*n)\n",
    "    \n",
    "m[0][0],m[0][1],m[0][2],m[1][0],m[1][1],m[1][2],m[2][0],m[2][1],m[2][2]=10.0,2.0,-1.0,-3.0,-6.0,2.0,1.0,1.0,5.0 \n",
    "r=[27.0,-61.5,-21.5]\n",
    "x=[0.0,0.0,0.0]\n",
    "\n",
    "for i in range(0,n):\n",
    "    for j in range(i,n):\n",
    "        if (i==j):\n",
    "            d = m[i][j]\n",
    "            for s in range (0,n):\n",
    "                m[i][s]=((m[i][s])/d)\n",
    "            r[i]=((r[i])/d)\n",
    "        else:\n",
    "            d=m[j][i]\n",
    "            for s in range (0,n):\n",
    "                m[j][s]=m[j][s]-(d*m[i][s])\n",
    "            r[j]=r[j]-(d*r[i])\n",
    "i=n-1\n",
    "j=n-1\n",
    "\n",
    "while (i>=0):\n",
    "    y = r[i]\n",
    "    while (j>=i):\n",
    "        y=y-x[j]*m[i][j]\n",
    "        j -= 1\n",
    "    x[i]=y\n",
    "    i -= 1\n",
    "    j=n-1\n",
    "for i in range(0,n):\n",
    "    k=i+1\n",
    "    print \"\"\n",
    "    print \"El valor de la incognita X%d es %f\"%(k,x[i])\n"
   ]
  },
  {
   "cell_type": "code",
   "execution_count": 31,
   "metadata": {
    "collapsed": false
   },
   "outputs": [
    {
     "name": "stdout",
     "output_type": "stream",
     "text": [
      "El valor de las x es correcto\n"
     ]
    }
   ],
   "source": [
    "#   b)\n",
    "\n",
    "x1,x2,x3 = 0.5,8,-6\n",
    "fun = 10*x1 + 2*x2 - x3\n",
    "fun2 = -3*x1 - 6*x2 + 2*x3\n",
    "fun3 = x1 + x2 + 5*x3\n",
    "if (fun==27 and fun2==-61.5 and fun3==-21.5):\n",
    "    print \"El valor de las x es correcto\""
   ]
  }
 ],
 "metadata": {
  "kernelspec": {
   "display_name": "Python 2",
   "language": "python",
   "name": "python2"
  },
  "language_info": {
   "codemirror_mode": {
    "name": "ipython",
    "version": 2
   },
   "file_extension": ".py",
   "mimetype": "text/x-python",
   "name": "python",
   "nbconvert_exporter": "python",
   "pygments_lexer": "ipython2",
   "version": "2.7.11"
  }
 },
 "nbformat": 4,
 "nbformat_minor": 0
}
