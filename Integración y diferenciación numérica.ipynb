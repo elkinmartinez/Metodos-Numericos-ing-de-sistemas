{
 "cells": [
  {
   "cell_type": "code",
   "execution_count": 4,
   "metadata": {
    "collapsed": false
   },
   "outputs": [
    {
     "name": "stdout",
     "output_type": "stream",
     "text": [
      "Punto desde el que iniciara la integracion: 0\n",
      "Punto en el que terminara la integracion: 0.8\n",
      "integral con regla de trapecio de un segmento :  0.1728\n"
     ]
    }
   ],
   "source": [
    "1.\n",
    "a = float(raw_input(\"Punto desde el que iniciara la integracion: \"))\n",
    "b = float(raw_input(\"Punto en el que terminara la integracion: \"))\n",
    "\n",
    "def evaluar(x):\n",
    "    f = 0.2 + 25*x - 200*x**2 + 675*x**3 - 900*x**4 + 400*x**5\n",
    "    return f\n",
    "\n",
    "def trap(h,f0,f1):\n",
    "    trap = h*(f0+f1)/2\n",
    "    return trap\n",
    "\n",
    "print \"integral con regla de trapecio de un segmento : \",trap(b-a,evaluar(a),evaluar(b))"
   ]
  },
  {
   "cell_type": "code",
   "execution_count": 5,
   "metadata": {
    "collapsed": false
   },
   "outputs": [
    {
     "name": "stdout",
     "output_type": "stream",
     "text": [
      "Ingrese el numero de segmentos: 2\n",
      "Ingrese el punto X0 0\n",
      "Ingrese el punto X1 0.4\n",
      "Ingrese el punto X2 0.8\n",
      "integral con regla de trapecio con multiples segmentos :  1.0688\n"
     ]
    }
   ],
   "source": [
    "1.\n",
    "f,n,x = [],2,[]\n",
    "n = int(raw_input(\"Ingrese el numero de segmentos: \"))\n",
    "\n",
    "for k in range(n+1):\n",
    "    x.append(float(raw_input(\"Ingrese el punto X%d \" %k)))\n",
    "    \n",
    "def evaluar(x):\n",
    "    f.append(0.2+25*x-200*x**2+675*x**3-900*x**4+400*x**5)\n",
    "    \n",
    "for j in range(n+1):\n",
    "    evaluar(x[j])\n",
    "\n",
    "def trapm(h,n,f):\n",
    "    suma = f[0]\n",
    "    for i in range(n-1):\n",
    "        suma = suma + 2 * f[i+1]\n",
    "    suma = suma + f[n]\n",
    "    trapm = h * (suma/(2*n))\n",
    "    return trapm\n",
    "h = (x[n]-x[0])\n",
    "\n",
    "print \"integral con regla de trapecio con multiples segmentos : \",trapm(h,n,f)"
   ]
  },
  {
   "cell_type": "code",
   "execution_count": 5,
   "metadata": {
    "collapsed": false
   },
   "outputs": [
    {
     "name": "stdout",
     "output_type": "stream",
     "text": [
      "integral con regla de trapecio de un segmento :  0.1728\n"
     ]
    }
   ],
   "source": [
    "2.\n",
    "a,b = 0,0.8\n",
    "\n",
    "def evaluar(x):\n",
    "    f = 0.2 + 25*x - 200*x**2 + 675*x**3 - 900*x**4 + 400*x**5\n",
    "    return f\n",
    "\n",
    "def trap(h,f0,f1):\n",
    "    trap = h*(f0+f1)/2\n",
    "    return trap\n",
    "\n",
    "print \"integral con regla de trapecio de un segmento : \",trap(b-a,evaluar(a),evaluar(b))\n",
    "    "
   ]
  },
  {
   "cell_type": "code",
   "execution_count": 4,
   "metadata": {
    "collapsed": false
   },
   "outputs": [
    {
     "name": "stdout",
     "output_type": "stream",
     "text": [
      "integral con regla de trapecio con multiples segmentos :  1.0688\n"
     ]
    }
   ],
   "source": [
    "2.\n",
    "f,n = [],2\n",
    "x = [0,0.4,0.8]\n",
    " \n",
    "def evaluar(x):\n",
    "    f.append(0.2+25*x-200*x**2+675*x**3-900*x**4+400*x**5)\n",
    "    \n",
    "for j in range(n+1):\n",
    "    evaluar(x[j])\n",
    "\n",
    "def trapm(h,n,f):\n",
    "    suma = f[0]\n",
    "    for i in range(n-1):\n",
    "        suma = suma + 2 * f[i+1]\n",
    "    suma = suma + f[n]\n",
    "    trapm = h * (suma/(2*n))\n",
    "    return trapm\n",
    "h = (x[n]-x[0])\n",
    "\n",
    "print \"integral con regla de trapecio con multiples segmentos : \",trapm(h,n,f)"
   ]
  },
  {
   "cell_type": "code",
   "execution_count": 1,
   "metadata": {
    "collapsed": false
   },
   "outputs": [
    {
     "name": "stdout",
     "output_type": "stream",
     "text": [
      "Punto desde el que iniciara la integracion: 0\n",
      "Punto en el que terminara la integracion: 0.8\n",
      "Integracion con regla de Simpson 1/3 :  1.36746666667\n"
     ]
    }
   ],
   "source": [
    "3.\n",
    "f = 0.0\n",
    "a = float(raw_input(\"Punto desde el que iniciara la integracion: \"))\n",
    "b = float(raw_input(\"Punto en el que terminara la integracion: \"))\n",
    "\n",
    "def evaluar(x):\n",
    "    f = 0.2+25*x-200*x**2+675*x**3-900*x**4+400*x**5\n",
    "    return f\n",
    "    \n",
    "def sim13(h,f0,f1,f2):\n",
    "    simp13 = h*(f0+4*f1+f2)/6\n",
    "    return simp13\n",
    "\n",
    "f0 = evaluar(a)\n",
    "f1 = evaluar((a+b)/2)\n",
    "f2 = evaluar(b)\n",
    "\n",
    "print \"Integracion con regla de Simpson 1/3 con un segmento: \",sim13(b-a,f0,f1,f2) "
   ]
  },
  {
   "cell_type": "code",
   "execution_count": 1,
   "metadata": {
    "collapsed": false
   },
   "outputs": [
    {
     "name": "stdout",
     "output_type": "stream",
     "text": [
      "Ingrese el numero de segmentos: 5\n",
      "Ingrese el punto X00\n",
      "Ingrese el punto X10.16\n",
      "Ingrese el punto X20.32\n",
      "Ingrese el punto X30.48\n",
      "Ingrese el punto X40.64\n",
      "Ingrese el punto X50.80\n",
      "Integracion con regla de Simpson 1/3 con multiples segmentos :  1.165361152\n"
     ]
    }
   ],
   "source": [
    "3.\n",
    "f,n,x = [],0,[]\n",
    "n = int(raw_input(\"Ingrese el numero de segmentos: \"))\n",
    "\n",
    "for k in range(n+1):\n",
    "    x.append(float(raw_input(\"Ingrese el punto X%d\" %k)))\n",
    "\n",
    "def evaluar(x):\n",
    "    f.append(0.2+25*x-200*x**2+675*x**3-900*x**4+400*x**5)\n",
    "    \n",
    "for j in range(n+1):\n",
    "    evaluar(x[j])\n",
    "    \n",
    "def simp13m(h,n,f):\n",
    "    suma = f[0]\n",
    "    i = 1\n",
    "    while (i<=n-1):\n",
    "        suma = suma + 4*f[i]       \n",
    "        i = i+2\n",
    "    j = 2\n",
    "    while (j<=n-2):\n",
    "        suma = suma + 2*f[j]  \n",
    "        j = j+2\n",
    "    suma = suma + f[n]\n",
    "    simp13 = h*(suma/(3*n))\n",
    "    return simp13\n",
    "    \n",
    "h = x[n]-x[0]\n",
    "\n",
    "print \"Integracion con regla de Simpson 1/3 con multiples segmentos : \",simp13m(h,n,f)"
   ]
  },
  {
   "cell_type": "code",
   "execution_count": 28,
   "metadata": {
    "collapsed": false
   },
   "outputs": [
    {
     "name": "stdout",
     "output_type": "stream",
     "text": [
      "Integracion con regla de Simpson 1/3 con un segmento:  1.36746666667\n"
     ]
    }
   ],
   "source": [
    "4.\n",
    "a,b,f = 0,0.8,0.0\n",
    "\n",
    "def evaluar(x):\n",
    "    f = 0.2+25*x-200*x**2+675*x**3-900*x**4+400*x**5\n",
    "    return f\n",
    "    \n",
    "def sim13(h,f0,f1,f2):\n",
    "    simp13 = h*(f0+4*f1+f2)/6\n",
    "    return simp13\n",
    "\n",
    "f0 = evaluar(a)\n",
    "f1 = evaluar((a+b)/2)\n",
    "f2 = evaluar(b)\n",
    "\n",
    "print \"Integracion con regla de Simpson 1/3 con un segmento: \",sim13(b-a,f0,f1,f2) \n"
   ]
  },
  {
   "cell_type": "code",
   "execution_count": 6,
   "metadata": {
    "collapsed": false
   },
   "outputs": [
    {
     "name": "stdout",
     "output_type": "stream",
     "text": [
      "Integracion con regla de Simpson 1/3 con multiples segmentos :  1.62346666667\n"
     ]
    }
   ],
   "source": [
    "4.\n",
    "f,n,x = [],4,[]\n",
    "x = [0,0.2,0.4,0.6,0.8]\n",
    "\n",
    "def evaluar(x):\n",
    "    f.append(0.2+25*x-200*x**2+675*x**3-900*x**4+400*x**5)\n",
    "    \n",
    "for j in range(n+1):\n",
    "    evaluar(x[j])\n",
    "    \n",
    "def simp13m(h,n,f):\n",
    "    suma = f[0]\n",
    "    i = 1\n",
    "    while (i<=n-1):\n",
    "        suma = suma + 4*f[i]       \n",
    "        i = i+2\n",
    "    j = 2\n",
    "    while (j<=n-2):\n",
    "        suma = suma + 2*f[j]  \n",
    "        j = j+2\n",
    "    suma = suma + f[n]\n",
    "    simp13 = h*(suma/(3*n))\n",
    "    return simp13\n",
    "    \n",
    "h = x[n]-x[0]\n",
    "\n",
    "print \"Integracion con regla de Simpson 1/3 con multiples segmentos : \",simp13m(h,n,f)"
   ]
  },
  {
   "cell_type": "code",
   "execution_count": 22,
   "metadata": {
    "collapsed": false
   },
   "outputs": [
    {
     "name": "stdout",
     "output_type": "stream",
     "text": [
      "Punto desde el que iniciara la integracion: 0\n",
      "Punto en el que terminara la integracion: 0.8\n",
      "Integracion con regla de Simpson 3/8 con un segmento:  1.51917037037\n"
     ]
    }
   ],
   "source": [
    "5.\n",
    "f = 0.0\n",
    "a = float(raw_input(\"Punto desde el que iniciara la integracion: \"))\n",
    "b = float(raw_input(\"Punto en el que terminara la integracion: \"))\n",
    "\n",
    "def evaluar(x):\n",
    "    f = 0.2+25*x-200*x**2+675*x**3-900*x**4+400*x**5\n",
    "    return f\n",
    "    \n",
    "def simp38(h,f0,f1,f2,f3):\n",
    "    simp13 = h*(f0+3*f1+3*f2+f3)/8\n",
    "    return simp13\n",
    "\n",
    "f0 = evaluar(a)\n",
    "f1 = evaluar((a+b)/3)\n",
    "f2 = evaluar(((a+b)/3+b)/2)\n",
    "f3 = evaluar(b)\n",
    "\n",
    "print \"Integracion con regla de Simpson 3/8 con un segmento: \",simp38(b-a,f0,f1,f2,f3)"
   ]
  },
  {
   "cell_type": "code",
   "execution_count": 3,
   "metadata": {
    "collapsed": false
   },
   "outputs": [
    {
     "name": "stdout",
     "output_type": "stream",
     "text": [
      "Ingrese el numero de segmentos: 5\n",
      "Punto desde el que iniciara la integracion: 0\n",
      "Punto en el que terminara la integracion: 0.8\n",
      "1.165361152\n"
     ]
    }
   ],
   "source": [
    "5.\n",
    "f = []\n",
    "n = int(raw_input(\"Ingrese el numero de segmentos: \"))\n",
    "a = float(raw_input(\"Punto desde el que iniciara la integracion: \"))\n",
    "b = float(raw_input(\"Punto en el que terminara la integracion: \"))\n",
    "\n",
    "def evaluar(x):\n",
    "    f.append(0.2+25*x-200*x**2+675*x**3-900*x**4+400*x**5)\n",
    "aux = 0    \n",
    "for j in range(n+1):\n",
    "    evaluar(aux)\n",
    "    aux = aux + 0.16\n",
    "    \n",
    "def trap(h,f0,f1):\n",
    "    trap = h*(f0+f1)/2\n",
    "    return trap\n",
    "\n",
    "def simp38(h,f0,f1,f2,f3):\n",
    "    simp13 = h*(f0+3*f1+3*f2+f3)/8\n",
    "    return simp13\n",
    "\n",
    "def simp13m(h,n,f):\n",
    "    suma = f[0]\n",
    "    i = 1\n",
    "    while (i<=n-1):\n",
    "        suma = suma + 4*f[i]       \n",
    "        i = i+2\n",
    "    j = 2\n",
    "    while (j<=n-2):\n",
    "        suma = suma + 2*f[j]  \n",
    "        j = j+2\n",
    "    suma = suma + f[n]\n",
    "    simp13 = h*(suma/(3*n))\n",
    "    return simp13\n",
    "\n",
    "def simpInt(a,b,n,f):\n",
    "    suma = 0.0\n",
    "    h = (b-a)\n",
    "    if (n==1):\n",
    "        suma = trap(h,f[n-1],f[n])\n",
    "    else:\n",
    "        m=n\n",
    "        if (n%2==0 and n>1):\n",
    "            suma = suma + simp38(h,f[n-3],f[n-2],f[n-1],f[n])\n",
    "            m = n-3\n",
    "        if (m>1):\n",
    "            suma = suma + simp13m(h,m,f)\n",
    "    simpInt = suma\n",
    "    return simpInt\n",
    "print simpInt(a,b,n,f)"
   ]
  },
  {
   "cell_type": "code",
   "execution_count": 15,
   "metadata": {
    "collapsed": false
   },
   "outputs": [
    {
     "name": "stdout",
     "output_type": "stream",
     "text": [
      "Ingrese el valor en el cual quiere estimar la derivada: 0.5\n",
      "Ingrese el tamaÃ±o de paso: 0.25\n",
      "Primera derivada:  -1.1546875\n",
      "Primera derivada con mas terminos:  -0.859375\n",
      "Segunda derivada:  -2.3625\n",
      "Segunda derivada con mas terminos:  -1.6125\n",
      "Tercera derivada:  -3.0\n",
      "Tercera derivada con mas terminos:  -2.1\n",
      "Cuarta derivada:  -2.4\n",
      "Cuarta derivada con mas terminos:  -2.4\n"
     ]
    }
   ],
   "source": [
    "23.1\n",
    "x = float(raw_input(\"Ingrese el valor en el cual quiere estimar la derivada: \"))\n",
    "h = float(raw_input(\"Ingrese el tamaño de paso: \"))\n",
    "\n",
    "def fun(X):\n",
    "    f = -0.1*X**4-0.15*X**3-0.5*X**2-0.25*X+1.2\n",
    "    return f\n",
    "\n",
    "xi = fun(x)\n",
    "xi1 = fun(x+h)\n",
    "xi2 = fun(x+2*h)\n",
    "xi3 = fun(x+3*h)\n",
    "xi4 = fun(x+4*h)\n",
    "xi5 = fun(x+5*h)\n",
    "\n",
    "def primeraDerivada():\n",
    "    df1 = (xi1-xi)/h\n",
    "    df2 = (-xi2+4*xi1-3*xi)/(2*h)\n",
    "    print \"Primera derivada: \",df1\n",
    "    print \"Primera derivada con mas terminos: \",df2\n",
    "def segundaDerivada():\n",
    "    d2f1 = (xi2-2*xi1+xi)/h**2\n",
    "    d2f2 = (-xi3+4*xi2-5*xi1+2*xi)/h**2\n",
    "    print \"Segunda derivada: \",d2f1\n",
    "    print \"Segunda derivada con mas terminos: \",d2f2\n",
    "def terceraDerivada():\n",
    "    d3f1 = (xi3-3*xi2+3*xi1-xi)/h**3\n",
    "    d3f2 = (-3*xi4+14*xi3-24*xi2+18*xi1-5*xi)/(2*h**3)\n",
    "    print \"Tercera derivada: \",d3f1\n",
    "    print \"Tercera derivada con mas terminos: \",d3f2\n",
    "def cuartaDerivada():\n",
    "    d4f1 = (xi4-4*xi3+6*xi2-4*xi1+xi)/h**4\n",
    "    d4f2 = (-2*xi5+11*xi4-24*xi3+26*xi2-14*xi1+3*xi)/h**4\n",
    "    print \"Cuarta derivada: \",d4f1\n",
    "    print \"Cuarta derivada con mas terminos: \",d4f2\n",
    "primeraDerivada()\n",
    "segundaDerivada()\n",
    "terceraDerivada()\n",
    "cuartaDerivada()"
   ]
  },
  {
   "cell_type": "code",
   "execution_count": 20,
   "metadata": {
    "collapsed": false
   },
   "outputs": [
    {
     "name": "stdout",
     "output_type": "stream",
     "text": [
      "Ingrese el valor en el cual quiere estimar la derivada: 0.5\n",
      "Ingrese el tamaÃ±o de paso: 0.25\n",
      "Primera derivada:  -0.7140625\n",
      "Primera derivada con mas terminos:  -0.878125\n",
      "Segunda derivada:  -1.3125\n",
      "Segunda derivada con mas terminos:  -1.6125\n",
      "Tercera derivada:  -1.2\n",
      "Tercera derivada con mas terminos:  -2.1\n",
      "Cuarta derivada:  -2.4\n",
      "Cuarta derivada con mas terminos:  -2.4\n"
     ]
    }
   ],
   "source": [
    "23.2\n",
    "x = float(raw_input(\"Ingrese el valor en el cual quiere estimar la derivada: \"))\n",
    "h = float(raw_input(\"Ingrese el tamaño de paso: \"))\n",
    "\n",
    "def fun(X):\n",
    "    f = -0.1*X**4-0.15*X**3-0.5*X**2-0.25*X+1.2\n",
    "    return f\n",
    "\n",
    "xi = fun(x)\n",
    "xi1 = fun(x-h)\n",
    "xi2 = fun(x-2*h)\n",
    "xi3 = fun(x-3*h)\n",
    "xi4 = fun(x-4*h)\n",
    "xi5 = fun(x-5*h)\n",
    "\n",
    "def primeraDerivada():\n",
    "    df1 = (xi-xi1)/h\n",
    "    df2 = (3*xi-4*xi1+xi2)/(2*h)\n",
    "    print \"Primera derivada: \",df1\n",
    "    print \"Primera derivada con mas terminos: \",df2\n",
    "def segundaDerivada():\n",
    "    d2f1 = (xi-2*xi1+xi2)/h**2\n",
    "    d2f2 = (2*xi-5*xi1+4*xi2-xi3)/h**2\n",
    "    print \"Segunda derivada: \",d2f1\n",
    "    print \"Segunda derivada con mas terminos: \",d2f2\n",
    "def terceraDerivada():\n",
    "    d3f1 = (xi-3*xi1+3*xi2-xi3)/h**3\n",
    "    d3f2 = (5*xi-18*xi1+24*xi2-14*xi3+3*xi4)/(2*h**3)\n",
    "    print \"Tercera derivada: \",d3f1\n",
    "    print \"Tercera derivada con mas terminos: \",d3f2\n",
    "def cuartaDerivada():\n",
    "    d4f1 = (xi-4*xi1+6*xi2-4*xi3+xi4)/h**4\n",
    "    d4f2 = (3*xi-14*xi1+26*xi2-24*xi3+11*xi4-2*xi5)/h**4\n",
    "    print \"Cuarta derivada: \",d4f1\n",
    "    print \"Cuarta derivada con mas terminos: \",d4f2\n",
    "primeraDerivada()\n",
    "segundaDerivada()\n",
    "terceraDerivada()\n",
    "cuartaDerivada()"
   ]
  },
  {
   "cell_type": "code",
   "execution_count": 22,
   "metadata": {
    "collapsed": false
   },
   "outputs": [
    {
     "name": "stdout",
     "output_type": "stream",
     "text": [
      "Ingrese el valor en el cual quiere estimar la derivada: 0.5\n",
      "Ingrese el tamaÃ±o de paso: 0.25\n",
      "Primera derivada:  -0.934375\n",
      "Primera derivada con mas terminos:  -0.9125\n",
      "Segunda derivada:  -1.7625\n",
      "Segunda derivada con mas terminos:  -1.75\n",
      "Tercera derivada:  -2.1\n",
      "Tercera derivada con mas terminos:  -15.4125\n",
      "Cuarta derivada:  -2.4\n",
      "Cuarta derivada con mas terminos:  2149.53333333\n"
     ]
    }
   ],
   "source": [
    "23.3\n",
    "x = float(raw_input(\"Ingrese el valor en el cual quiere estimar la derivada: \"))\n",
    "h = float(raw_input(\"Ingrese el tamaño de paso: \"))\n",
    "\n",
    "def fun(X):\n",
    "    f = -0.1*X**4-0.15*X**3-0.5*X**2-0.25*X+1.2\n",
    "    return f\n",
    "\n",
    "xi = fun(x)\n",
    "xi1 = fun(x+h)\n",
    "xi2 = fun(x+2*h)\n",
    "xi_1 = fun(x-h)\n",
    "xi_2 = fun(x-2*h)\n",
    "xi_3 = fun(x-3*h)\n",
    "\n",
    "def primeraDerivada():\n",
    "    df1 = (xi1-xi_1)/(2*h)\n",
    "    df2 = (-xi2+8*xi1-8*xi_1+xi_2)/(12*h)\n",
    "    print \"Primera derivada: \",df1\n",
    "    print \"Primera derivada con mas terminos: \",df2\n",
    "def segundaDerivada():\n",
    "    d2f1 = (xi1-2*xi+xi_1)/h**2\n",
    "    d2f2 = (-xi2+16*xi1-30*xi+16*xi_1-xi_2)/(12*h**2)\n",
    "    print \"Segunda derivada: \",d2f1\n",
    "    print \"Segunda derivada con mas terminos: \",d2f2\n",
    "def terceraDerivada():\n",
    "    d3f1 = (xi2-2*xi1+2*xi_1-xi_2)/(2*h**3)\n",
    "    d3f2 = (-xi3+8*xi2-13*xi1+13*xi_1-8*xi_2+xi_3)/(8*h**3)\n",
    "    print \"Tercera derivada: \",d3f1\n",
    "    print \"Tercera derivada con mas terminos: \",d3f2\n",
    "def cuartaDerivada():\n",
    "    d4f1 = (xi2-4*xi1+6*xi-4*xi_1+xi_2)/h**4\n",
    "    d4f2 = (-xi3+12*xi2+39*xi1+56*xi-39*xi_1+12*xi_2+xi_3)/(6*h**4)\n",
    "    print \"Cuarta derivada: \",d4f1\n",
    "    print \"Cuarta derivada con mas terminos: \",d4f2\n",
    "primeraDerivada()\n",
    "segundaDerivada()\n",
    "terceraDerivada()\n",
    "cuartaDerivada()"
   ]
  },
  {
   "cell_type": "code",
   "execution_count": 3,
   "metadata": {
    "collapsed": false
   },
   "outputs": [
    {
     "name": "stdout",
     "output_type": "stream",
     "text": [
      "Diferencia hacia adelante:  -0.859375\n",
      "Diferencia hacia atras:  -0.878125\n",
      "Diferencia centrada:  -0.9125\n"
     ]
    }
   ],
   "source": [
    "7.\n",
    "x,h = 0.5,0.25\n",
    "\n",
    "def fun(X):\n",
    "    f = -0.1*X**4-0.15*X**3-0.5*X**2-0.25*X+1.2\n",
    "    return f\n",
    "\n",
    "xi_1 = fun(x-h)\n",
    "xi_2 = fun(x-2*h)\n",
    "xi = fun(x)\n",
    "xi1 = fun(x+h)\n",
    "xi2 = fun(x+2*h)\n",
    "\n",
    "df1 = (-xi2+4*xi1-3*xi)/(2*h)\n",
    "print \"Diferencia hacia adelante: \",df1\n",
    "    \n",
    "df2 = (3*xi-4*xi_1+xi_2)/(2*h)\n",
    "print \"Diferencia hacia atras: \",df2\n",
    "    \n",
    "df3 = (-xi2+8*xi1-8*xi_1+xi_2)/(12*h)\n",
    "print \"Diferencia centrada: \",df3"
   ]
  },
  {
   "cell_type": "code",
   "execution_count": null,
   "metadata": {
    "collapsed": true
   },
   "outputs": [],
   "source": []
  }
 ],
 "metadata": {
  "kernelspec": {
   "display_name": "Python 2",
   "language": "python",
   "name": "python2"
  },
  "language_info": {
   "codemirror_mode": {
    "name": "ipython",
    "version": 2
   },
   "file_extension": ".py",
   "mimetype": "text/x-python",
   "name": "python",
   "nbconvert_exporter": "python",
   "pygments_lexer": "ipython2",
   "version": "2.7.11"
  }
 },
 "nbformat": 4,
 "nbformat_minor": 0
}
