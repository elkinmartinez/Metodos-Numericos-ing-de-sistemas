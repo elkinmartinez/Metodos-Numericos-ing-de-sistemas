{
 "cells": [
  {
   "cell_type": "code",
   "execution_count": 7,
   "metadata": {
    "collapsed": false
   },
   "outputs": [
    {
     "name": "stdout",
     "output_type": "stream",
     "text": [
      "Xr                  Et                   Ea\n",
      "14.000000           5.278684             92.857143\n",
      "15.000000           1.487125             6.666667\n",
      "14.500000           1.895779             3.448276\n",
      "14.750000           0.204327             1.694915\n",
      "14.875000           0.641399             0.840336\n",
      "14.812500           0.218536             0.421941\n"
     ]
    }
   ],
   "source": [
    "import math\n",
    "g,m,c,t,v= 9.8,68.1,0.0,10,40\n",
    "valor,Et,Ea,Es = 14.7802,0.0,1.0,0.5\n",
    "Xl,Xu,Xr,fun1,fun2 = 12.0,16.0,1.0,1.0,1.0\n",
    "\n",
    "def evaluar(c):\n",
    "    fun = (g*m/c)*(1-math.e**((-1*c/m)*t))-v\n",
    "    return fun\n",
    "print \"Xr                  Et                   Ea\"\n",
    "while (Ea>Es):   \n",
    "    Xrant = Xr\n",
    "    Xr =  (Xl+Xu)/2\n",
    "    Et = (abs(valor-Xr)/valor)*100\n",
    "    Ea = (abs(Xr-Xrant)/Xr)*100\n",
    "    fun1 = evaluar(Xl)\n",
    "    fun2 = evaluar(Xr)\n",
    "    if (fun1*fun2)<0:\n",
    "        Xu = Xr\n",
    "    if (fun1*fun2)>0:\n",
    "        Xl = Xr\n",
    "    print \"%f           %f             %f\"%(Xr,Et,Ea)\n"
   ]
  },
  {
   "cell_type": "code",
   "execution_count": null,
   "metadata": {
    "collapsed": true
   },
   "outputs": [],
   "source": []
  }
 ],
 "metadata": {
  "kernelspec": {
   "display_name": "Python 2",
   "language": "python",
   "name": "python2"
  },
  "language_info": {
   "codemirror_mode": {
    "name": "ipython",
    "version": 2
   },
   "file_extension": ".py",
   "mimetype": "text/x-python",
   "name": "python",
   "nbconvert_exporter": "python",
   "pygments_lexer": "ipython2",
   "version": "2.7.11"
  }
 },
 "nbformat": 4,
 "nbformat_minor": 0
}
