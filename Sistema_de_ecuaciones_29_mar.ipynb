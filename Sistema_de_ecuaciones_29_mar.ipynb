{
 "cells": [
  {
   "cell_type": "code",
   "execution_count": 2,
   "metadata": {
    "collapsed": false
   },
   "outputs": [
    {
     "name": "stdout",
     "output_type": "stream",
     "text": [
      "termino 1 de la 1 ecuacion:0\n",
      "termino 2 de la 1 ecuacion:2\n",
      "termino 3 de la 1 ecuacion:5\n",
      "termino 4 de la 1 ecuacion:9\n",
      "termino 1 de la 2 ecuacion:2\n",
      "termino 2 de la 2 ecuacion:1\n",
      "termino 3 de la 2 ecuacion:1\n",
      "termino 4 de la 2 ecuacion:9\n",
      "termino 1 de la 3 ecuacion:3\n",
      "termino 2 de la 3 ecuacion:1\n",
      "termino 3 de la 3 ecuacion:0\n",
      "termino 4 de la 3 ecuacion:10\n",
      "1.0\n",
      "Resultados\n",
      "X1 = 6.000000                 X2 = -8.000000                X3 = 5.000000\n"
     ]
    }
   ],
   "source": [
    "x,y,z,i,det1,det2,a= [],[],[],[],0.0,0.0,1\n",
    "for f in range(3):\n",
    "    f = 0\n",
    "    x.append(float(raw_input(\"termino %d de la %d ecuacion:\" %(f+1,a))))\n",
    "    y.append(float(raw_input(\"termino %d de la %d ecuacion:\" %(f+2,a))))\n",
    "    z.append(float(raw_input(\"termino %d de la %d ecuacion:\" %(f+3,a))))\n",
    "    i.append(float(raw_input(\"termino %d de la %d ecuacion:\" %(f+4,a))))\n",
    "    a = a+1\n",
    "\n",
    "def resolver(x1,y1,z1):\n",
    "    for j in range(3):\n",
    "        if (j==0):\n",
    "            det1=x1[j]*y1[j+1]*z1[j+2]\n",
    "            det2=x1[j+2]*y1[j+1]*z1[j] \n",
    "        if (j==1):\n",
    "            det1= det1+ (y1[j-1]*z1[j]*x1[j+1])\n",
    "            det2= det2+ (y1[j+1]*z1[j]*x1[j-1])\n",
    "        if (j==2):\n",
    "            det1= det1+ (y1[j]*z1[j-2]*x1[j-1])\n",
    "            det2= det2+ (y1[j-2]*z1[j]*x1[j-1])\n",
    "    return det1-det2\n",
    "detPrin = resolver(x,y,z)\n",
    "resul1 = resolver(i,y,z)/detPrin\n",
    "resul2 = resolver(x,i,z)/detPrin\n",
    "resul3 = resolver(x,y,i)/detPrin\n",
    "print \"Resultados\"\n",
    "print \"X1 = %f                 X2 = %f                X3 = %f\" %(resul1,resul2,resul3)"
   ]
  },
  {
   "cell_type": "code",
   "execution_count": null,
   "metadata": {
    "collapsed": true
   },
   "outputs": [],
   "source": []
  }
 ],
 "metadata": {
  "kernelspec": {
   "display_name": "Python 2",
   "language": "python",
   "name": "python2"
  },
  "language_info": {
   "codemirror_mode": {
    "name": "ipython",
    "version": 2
   },
   "file_extension": ".py",
   "mimetype": "text/x-python",
   "name": "python",
   "nbconvert_exporter": "python",
   "pygments_lexer": "ipython2",
   "version": "2.7.11"
  }
 },
 "nbformat": 4,
 "nbformat_minor": 0
}
