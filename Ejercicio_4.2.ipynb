{
 "cells": [
  {
   "cell_type": "code",
   "execution_count": 29,
   "metadata": {
    "collapsed": false
   },
   "outputs": [
    {
     "name": "stdout",
     "output_type": "stream",
     "text": [
      "Orden n                     f^n(x)                      f(pi/3)                      Et\n",
      "0                       0.707106781187              0.707106781187              -41.4213562373\n",
      "1                       -0.707106781187              0.521986658763              -4.39733175266\n",
      "2                       -0.707106781187              0.497754491403              0.449101719315\n",
      "3                       0.707106781187              0.49986914693              0.0261706139912\n",
      "4                       0.707106781187              0.500007550811              -0.00151016212258\n",
      "5                       -0.707106781187              0.500000304              -6.08000745084e-05\n",
      "6                       -0.707106781187              0.499999987799              2.44027497098e-06\n"
     ]
    }
   ],
   "source": [
    "import math\n",
    "fx,h,x = [],math.pi/12,math.pi/4\n",
    "\n",
    "fx.append(math.cos(x))\n",
    "fx.append(-math.sin(x))\n",
    "fx.append(-math.cos(x))\n",
    "fx.append(math.sin(x))\n",
    "fx.append(math.cos(x))\n",
    "fx.append(-math.sin(x))\n",
    "fx.append(-math.cos(x))\n",
    "\n",
    "n,fac,aux = 0,0,0.0\n",
    "\n",
    "print \"Orden n                     f^n(x)                      f(pi/3)                      Et\"\n",
    "while n<7:\n",
    "    fac = math.factorial(n)\n",
    "    if (n==0):\n",
    "        f = fx[n]/fac\n",
    "    else:\n",
    "        f = (fx[n]/fac)*h**n\n",
    "    aux = aux + f\n",
    "    Et = ((0.5-aux)/0.5)*100\n",
    "    print \"%s                       %s              %s              %s\"%(n,fx[n],aux,Et)\n",
    "    n = n+1\n",
    "    "
   ]
  },
  {
   "cell_type": "code",
   "execution_count": null,
   "metadata": {
    "collapsed": true
   },
   "outputs": [],
   "source": []
  },
  {
   "cell_type": "code",
   "execution_count": null,
   "metadata": {
    "collapsed": true
   },
   "outputs": [],
   "source": []
  }
 ],
 "metadata": {
  "kernelspec": {
   "display_name": "Python 2",
   "language": "python",
   "name": "python2"
  },
  "language_info": {
   "codemirror_mode": {
    "name": "ipython",
    "version": 2
   },
   "file_extension": ".py",
   "mimetype": "text/x-python",
   "name": "python",
   "nbconvert_exporter": "python",
   "pygments_lexer": "ipython2",
   "version": "2.7.11"
  }
 },
 "nbformat": 4,
 "nbformat_minor": 0
}
