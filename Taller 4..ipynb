{
 "cells": [
  {
   "cell_type": "code",
   "execution_count": 3,
   "metadata": {
    "collapsed": false
   },
   "outputs": [
    {
     "name": "stdout",
     "output_type": "stream",
     "text": [
      "1era Raiz              2da Raiz\n",
      "-1.405125              6.405125\n",
      "Xr                           Et                          Ea\n",
      "7.500000                   17.093736                   100.000000 \n",
      "6.250000                   2.421886                   20.000000 \n",
      "6.875000                   7.335925                   9.090909 \n"
     ]
    },
    {
     "data": {
      "image/png": "[encoded data removed]",
      "text/plain": [
       "<matplotlib.figure.Figure at 0x6c1d208>"
      ]
     },
     "metadata": {},
     "output_type": "display_data"
    }
   ],
   "source": [
    "5.1\n",
    "import matplotlib.pyplot as plt\n",
    "import math\n",
    "%matplotlib inline\n",
    "def evaluar(valor):\n",
    "    fun = -0.5*valor**2+2.5*valor+4.5\n",
    "    return fun\n",
    "\n",
    "n,x,funcion,itera = 0,-50,[],[]\n",
    "while n<500:\n",
    "    funcion.append(-0.5*x**2+2.5*x+4.5)\n",
    "    itera.append(x)\n",
    "    x = x+0.5\n",
    "    n = n+1\n",
    "    \n",
    "n,Xl,Xu,Xr,valorexac,raiz1,raiz2 = 0,5.0,10.0,0.0,6.405124838,0.0,0.0\n",
    "a,b,c = -0.5,2.5,4.5\n",
    "raiz1 = (-b+math.sqrt(b**2-4*a*c))/(2*a)\n",
    "raiz2 = (-b-math.sqrt(b**2-4*a*c))/(2*a)\n",
    "\n",
    "print \"1era Raiz              2da Raiz\"\n",
    "print \"%f              %f\"%(raiz1,raiz2)\n",
    "print \"Xr                           Et                          Ea\"\n",
    "while n<3:\n",
    "    Xrant = Xr\n",
    "    Xr =  (Xl+Xu)/2\n",
    "    Et = (abs(valorexac-Xr)/valorexac)*100\n",
    "    Ea = (abs(Xr-Xrant)/Xr)*100\n",
    "    fun1 = evaluar(Xl)\n",
    "    fun2 = evaluar(Xr)\n",
    "    if (fun1*fun2)<0:\n",
    "        Xu = Xr\n",
    "    if (fun1*fun2)>0:\n",
    "        Xl = Xr\n",
    "    n = n+1\n",
    "    print \"%f                   %f                   %f \"%(Xr,Et,Ea)\n",
    "    \n",
    "plt.ylabel('Y(x)')\n",
    "plt.xlabel('x')\n",
    "plt.plot(itera, funcion)\n",
    "plt.axis([-10, 15, -10, 15])\n",
    "plt.grid(True)\n",
    "plt.show()"
   ]
  },
  {
   "cell_type": "code",
   "execution_count": 4,
   "metadata": {
    "collapsed": false
   },
   "outputs": [
    {
     "name": "stdout",
     "output_type": "stream",
     "text": [
      "Xr                           Et                          Ea\n",
      "0.500000                   19.588329                   100.000000 \n",
      "0.250000                   40.205835                   100.000000 \n",
      "0.375000                   10.308753                   33.333333 \n",
      "0.437500                   4.639788                   14.285714 \n",
      "0.406250                   2.834483                   7.692308 \n",
      "0.421875                   0.902653                   3.703704 \n",
      "0.414062                   0.965915                   1.886792 \n",
      "0.417969                   0.031631                   0.934579 \n",
      "0.419922                   0.435511                   0.465116 \n",
      "0.418945                   0.201940                   0.233100 \n",
      "0.418457                   0.085154                   0.116686 \n",
      "0.418213                   0.026762                   0.058377 \n"
     ]
    },
    {
     "data": {
      "image/png": "[encoded data removed]",
      "text/plain": [
       "<matplotlib.figure.Figure at 0x6da5470>"
      ]
     },
     "metadata": {},
     "output_type": "display_data"
    }
   ],
   "source": [
    "5.2\n",
    "import matplotlib.pyplot as plt\n",
    "import math\n",
    "%matplotlib inline\n",
    "\n",
    "def evaluar(valor):\n",
    "    fun = 5*valor**3-5*valor**2+6*valor-2\n",
    "    return fun\n",
    "\n",
    "n,x,funcion,itera = 0,-50,[],[]\n",
    "while n<1000:\n",
    "    funcion.append(5*x**3-5*x**2+6*x-2)\n",
    "    itera.append(x)\n",
    "    x = x+0.1\n",
    "    n = n+1\n",
    "    \n",
    "n,Xl,Xu,Xr,valorexac = 0,0.0,1.0,0.0,0.418101\n",
    "\n",
    "print \"Xr                           Et                          Ea\"\n",
    "Ea = 1.0\n",
    "Es = 0.1\n",
    "while Ea>Es:\n",
    "    Xrant = Xr\n",
    "    Xr =  (Xl+Xu)/2\n",
    "    Ea = (abs(Xr-Xrant)/Xr)*100\n",
    "    Et = (abs(valorexac-Xr)/valorexac)*100\n",
    "    fun1 = evaluar(Xl)\n",
    "    fun2 = evaluar(Xr)\n",
    "    if (fun1*fun2)<0:\n",
    "        Xu = Xr\n",
    "    if (fun1*fun2)>0:\n",
    "        Xl = Xr\n",
    "    n = n+1\n",
    "    print \"%f                   %f                   %f \"%(Xr,Et,Ea)\n",
    "    \n",
    "plt.ylabel('Y(x)')\n",
    "plt.xlabel('x')\n",
    "plt.plot(itera, funcion)\n",
    "plt.axis([-10, 15, -10, 15])\n",
    "plt.grid(True)\n",
    "plt.show()"
   ]
  },
  {
   "cell_type": "code",
   "execution_count": 5,
   "metadata": {
    "collapsed": false
   },
   "outputs": [
    {
     "name": "stdout",
     "output_type": "stream",
     "text": [
      "metodo de biseccion          Xr                     Et                        Ea\n",
      "                           0.750000                 29.442242                  100.000000\n",
      "                           0.625000                 7.868535                  20.000000\n",
      "                           0.562500                 2.918318                  11.111111\n",
      "                           0.593750                 2.475108                  5.263158\n",
      "                           0.578125                 0.221605                  2.702703\n",
      "                           0.585938                 1.126752                  1.333333\n",
      "                           0.582031                 0.452573                  0.671141\n",
      "                           0.580078                 0.115484                  0.336700\n",
      "                           0.579102                 0.053061                  0.168634\n",
      "                           0.579590                 0.031212                  0.084246\n",
      "\n",
      "metodo de falsa posicion     Xr                     Et                        Ea\n",
      "                           0.642728                 10.928174                  100.000000\n",
      "                           0.588017                 1.485682                  9.304260\n",
      "                           0.580537                 0.194654                  1.288519\n",
      "                           0.579556                 0.025413                  0.169198\n",
      "                           0.579428                 0.003360                  0.022053\n",
      "                           0.579412                 0.000489                  0.002871\n",
      "                           0.579410                 0.000115                  0.000374\n"
     ]
    },
    {
     "data": {
      "image/png": "[encoded data removed]",
      "text/plain": [
       "<matplotlib.figure.Figure at 0x78be2b0>"
      ]
     },
     "metadata": {},
     "output_type": "display_data"
    }
   ],
   "source": [
    "5.3\n",
    "import matplotlib.pyplot as plt\n",
    "import math\n",
    "%matplotlib inline\n",
    "def evaluar(valor):\n",
    "    fun = -25+82*valor-90*valor**2+44*valor**3-8*valor**4+0.7*valor**5\n",
    "    return fun\n",
    "\n",
    "n,x,funcion,itera,valorexac = 0,-50,[],[],0.579409 \n",
    "while n<600:\n",
    "    funcion.append(-25+82*x-90*x**2+44*x**3-8*x**4+0.7*x**5)\n",
    "    itera.append(x)\n",
    "    x = x+0.1\n",
    "    n = n+1\n",
    "    \n",
    "Xl,Xu,Xr = 0.5,1.0,0.0\n",
    "\n",
    "print \"metodo de biseccion          Xr                     Et                        Ea\"\n",
    "Ea = 1.0\n",
    "Es = 0.1\n",
    "while Ea>Es:\n",
    "    Xrant = Xr\n",
    "    Xr =  (Xl+Xu)/2\n",
    "    Ea = (abs(Xr-Xrant)/Xr)*100\n",
    "    Et = (abs(valorexac-Xr)/valorexac)*100\n",
    "    fun1 = evaluar(Xl)\n",
    "    fun2 = evaluar(Xr)\n",
    "    if (fun1*fun2)<0:\n",
    "        Xu = Xr\n",
    "    if (fun1*fun2)>0:\n",
    "        Xl = Xr\n",
    "    n = n+1\n",
    "    print \"                           %f                 %f                  %f\"%(Xr,Et,Ea)\n",
    "\n",
    "print \"\"\n",
    "print \"metodo de falsa posicion     Xr                     Et                        Ea\"\n",
    "Xl,Xu,Xr = 0.5,1.0,0.0\n",
    "Ea2 = 1.0\n",
    "Es2 = 0.002\n",
    "while Ea2>Es2:\n",
    "    Xrant = Xr\n",
    "    Xr = Xu-(evaluar(Xu)*(Xl-Xu)/(evaluar(Xl)-evaluar(Xu)))\n",
    "    Ea2 = (abs(Xr-Xrant)/Xr)*100\n",
    "    Et2 = (abs(valorexac-Xr)/valorexac)*100\n",
    "    fun1 = evaluar(Xl)\n",
    "    fun2 = evaluar(Xr)\n",
    "    if (fun1*fun2)<0:\n",
    "        Xu = Xr\n",
    "    if (fun1*fun2)>0:\n",
    "        Xl = Xr\n",
    "    n = n+1\n",
    "    print \"                           %f                 %f                  %f\"%(Xr,Et2,Ea2)\n",
    "    \n",
    "plt.ylabel('Y(x)')\n",
    "plt.xlabel('x')\n",
    "plt.plot(itera, funcion)\n",
    "plt.axis([-10, 10, -100, 100])\n",
    "plt.grid(True)\n",
    "plt.show()"
   ]
  },
  {
   "cell_type": "code",
   "execution_count": 6,
   "metadata": {
    "collapsed": false
   },
   "outputs": [
    {
     "name": "stdout",
     "output_type": "stream",
     "text": [
      " Xr                         Et                           Ea\n",
      "-0.287425                   44.277358                     100.000000\n",
      "-0.379449                   9.287285                     24.251950\n",
      "-0.405232                   2.333795                     6.362579\n",
      "-0.412173                   0.610455                     1.684038\n",
      "-0.414022                   0.161313                     0.446417\n",
      "-0.414512                   0.042741                     0.118381\n",
      "-0.414642                   0.011333                     0.031395\n"
     ]
    },
    {
     "data": {
      "image/png": "[encoded data removed]",
      "text/plain": [
       "<matplotlib.figure.Figure at 0x3fbc128>"
      ]
     },
     "metadata": {},
     "output_type": "display_data"
    }
   ],
   "source": [
    "5.4\n",
    "import matplotlib.pyplot as plt\n",
    "import math\n",
    "%matplotlib inline\n",
    "Xl,Xu,Xr,fun1,fun2 = -1.0,0.0,0.0,1.0,1.0\n",
    "\n",
    "def evaluar(valor):\n",
    "    fun = -12-21*valor+18*valor**2-2.75*valor**3\n",
    "    return fun\n",
    "\n",
    "n,x,funcion,itera,valorexac = 0,-100,[],[],-0.41468941162\n",
    "while n<2000:\n",
    "    funcion.append(-12-21*x+18*x**2-2.75*x**3)\n",
    "    itera.append(x)\n",
    "    x = x+0.1\n",
    "    n = n+1\n",
    "    \n",
    "Es,Ea = 0.05,1.0\n",
    "print \" Xr                         Et                           Ea\"\n",
    "while Ea>Es:\n",
    "    Xrant = Xr\n",
    "    Xr =  Xu-(evaluar(Xu)*(Xl-Xu)/(evaluar(Xl)-evaluar(Xu)))\n",
    "    Et = abs((valorexac-Xr)/Xr)*100\n",
    "    Ea = abs((Xr-Xrant)/Xr)*100\n",
    "    fun1 = evaluar(Xl)\n",
    "    fun2 = evaluar(Xr)\n",
    "    if (fun1*fun2)<0:\n",
    "        Xu = Xr\n",
    "    if (fun1*fun2)>0:\n",
    "        Xl = Xr\n",
    "    print \"%f                   %f                     %f\"%(Xr,Et,Ea)\n",
    "\n",
    "plt.ylabel('Y(x)')\n",
    "plt.xlabel('x')\n",
    "plt.plot(itera, funcion)\n",
    "plt.axis([-10, 10, -100, 100])\n",
    "plt.grid(True)\n",
    "plt.show()"
   ]
  },
  {
   "cell_type": "code",
   "execution_count": 7,
   "metadata": {
    "collapsed": false
   },
   "outputs": [
    {
     "name": "stdout",
     "output_type": "stream",
     "text": [
      "metodo de biseccion          Xr                     Et                          Ea\n",
      "                           1.250000                 11.914017                  100.000000\n",
      "                           1.625000                 14.511778                  23.076923\n",
      "                           1.437500                 1.298881                  13.043478\n",
      "\n",
      "metodo de falsa posicion     Xr                     Et                          Ea\n",
      "                           1.628707                 14.773038                  100.000000\n",
      "                           1.497014                 5.492781                  8.797053\n",
      "                           1.448399                 2.066888                  3.356518\n"
     ]
    },
    {
     "data": {
      "image/png": "[encoded data removed]",
      "text/plain": [
       "<matplotlib.figure.Figure at 0x7551f98>"
      ]
     },
     "metadata": {},
     "output_type": "display_data"
    }
   ],
   "source": [
    "5.6\n",
    "import matplotlib.pyplot as plt\n",
    "import math\n",
    "%matplotlib inline\n",
    "def evaluar(valor):\n",
    "    fun = math.log(valor**2)-0.7\n",
    "    return fun\n",
    "\n",
    "x,funcion,itera,valorexac = 0.1,[],[],1.419068 \n",
    "while x<500:\n",
    "    funcion.append(math.log(x**2)-0.7)\n",
    "    itera.append(x)\n",
    "    x = x+0.1\n",
    "    \n",
    "Xl,Xu,Xr = 0.5,2.0,0.0\n",
    "\n",
    "print \"metodo de biseccion          Xr                     Et                          Ea\"\n",
    "n=0\n",
    "while n<3:\n",
    "    Xrant = Xr\n",
    "    Xr =  (Xl+Xu)/2\n",
    "    Ea = (abs(Xr-Xrant)/Xr)*100\n",
    "    Et = (abs(valorexac-Xr)/valorexac)*100\n",
    "    fun1 = evaluar(Xl)\n",
    "    fun2 = evaluar(Xr)\n",
    "    if (fun1*fun2)<0:\n",
    "        Xu = Xr\n",
    "    if (fun1*fun2)>0:\n",
    "        Xl = Xr\n",
    "    n = n+1\n",
    "    print \"                           %f                 %f                  %f\"%(Xr,Et,Ea)\n",
    "\n",
    "print \"\"\n",
    "print \"metodo de falsa posicion     Xr                     Et                          Ea\"\n",
    "\n",
    "Xl,Xu,Xr,n = 0.5,2.0,0.0,0\n",
    "while n<3:\n",
    "    Xrant = Xr\n",
    "    Xr = Xu-(evaluar(Xu)*(Xl-Xu)/(evaluar(Xl)-evaluar(Xu)))\n",
    "    Ea2 = (abs(Xr-Xrant)/Xr)*100\n",
    "    Et2 = (abs(valorexac-Xr)/valorexac)*100\n",
    "    fun1 = evaluar(Xl)\n",
    "    fun2 = evaluar(Xr)\n",
    "    if (fun1*fun2)<0:\n",
    "        Xu = Xr\n",
    "    if (fun1*fun2)>0:\n",
    "        Xl = Xr\n",
    "    n = n+1\n",
    "    print \"                           %f                 %f                  %f\"%(Xr,Et2,Ea2)\n",
    "    \n",
    "plt.ylabel('Y(x)')\n",
    "plt.xlabel('x')\n",
    "plt.plot(itera, funcion)\n",
    "plt.axis([-1, 10, -10, 5])\n",
    "plt.grid(True)\n",
    "plt.show()"
   ]
  },
  {
   "cell_type": "code",
   "execution_count": 8,
   "metadata": {
    "collapsed": false
   },
   "outputs": [
    {
     "name": "stdout",
     "output_type": "stream",
     "text": [
      "Masa\n",
      "59.8492869942\n",
      "59.8395489015\n",
      "59.8389199784\n",
      "59.8388793614\n"
     ]
    }
   ],
   "source": [
    "5.13\n",
    "import math\n",
    "g,c,v,t,Xu,Xl,fun1,fun2 = 9.8,15,35,9,50.0,60.0,1.0,1.0\n",
    "\n",
    "# v = ((m*g)/c) * (1 - e**(-(c/m)*t)) \n",
    "# v = ((m*9.8)/15) * (1 - e**(-(15/m)*9))=35\n",
    "# f(m) = m * (1 - e(-135/m)) - 53.57 = 0\n",
    "\n",
    "\n",
    "def evaluar(valor):\n",
    "    fun =  valor * (1 - math.e**(-135/valor)) - 53.57\n",
    "    return fun\n",
    "\n",
    "Es,Ea,Xr = 0.001,1.0,0.0\n",
    "print \"Masa\"\n",
    "while Ea>Es:\n",
    "    Xrant = Xr\n",
    "    Xr =  Xu-(evaluar(Xu)*(Xl-Xu)/(evaluar(Xl)-evaluar(Xu)))\n",
    "    Ea = (abs(Xr-Xrant)/Xr)*100\n",
    "    fun1 = evaluar(Xl)\n",
    "    fun2 = evaluar(Xr)\n",
    "    if (fun1*fun2)<0:\n",
    "        Xu = Xr\n",
    "    if (fun1*fun2)>0:\n",
    "        Xl = Xr\n",
    "    print Xr"
   ]
  },
  {
   "cell_type": "code",
   "execution_count": null,
   "metadata": {
    "collapsed": true
   },
   "outputs": [],
   "source": []
  }
 ],
 "metadata": {
  "kernelspec": {
   "display_name": "Python 2",
   "language": "python",
   "name": "python2"
  },
  "language_info": {
   "codemirror_mode": {
    "name": "ipython",
    "version": 2
   },
   "file_extension": ".py",
   "mimetype": "text/x-python",
   "name": "python",
   "nbconvert_exporter": "python",
   "pygments_lexer": "ipython2",
   "version": "2.7.11"
  }
 },
 "nbformat": 4,
 "nbformat_minor": 0
}
