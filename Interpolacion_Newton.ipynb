{
 "cells": [
  {
   "cell_type": "code",
   "execution_count": null,
   "metadata": {
    "collapsed": false
   },
   "outputs": [
    {
     "name": "stdout",
     "output_type": "stream",
     "text": [
      "Ingrese el numero de puntos: 11111\n",
      "Ingrese el x al cual quiere estimar: 2\n"
     ]
    }
   ],
   "source": [
    "import math\n",
    "\n",
    "n,X,xi,y,fdd,yint,ea,yint2 = 0,[],2.0,[],[],[],[],0.0\n",
    "n = int(raw_input(\"Ingrese el numero de puntos: \"))\n",
    "xi= float(raw_input(\"Ingrese el x al cual quiere estimar: \"))\n",
    "\n",
    "for i in range(n):\n",
    "    X.append(float(raw_input(\"Ingrese el X%d: \"%(i))))\n",
    "    fdd.append([0.0]*n)\n",
    "    \n",
    "for k in range(n):\n",
    "    y.append(math.log(X[k]))\n",
    "\n",
    "def fun (X, y, n, xi, yint,ea):\n",
    "    for i in range(0,n):\n",
    "        fdd[i][0] = y[i]\n",
    "    for j in range(1,n):\n",
    "        for i in range(0,n-j):\n",
    "            fdd[i][j]=(fdd[i+1][j-1]-fdd[i][j-1])/(X[i+j]-X[i])\n",
    "    xterm = 1.0\n",
    "    yint.append(fdd[0][0])\n",
    "    for order in range(1,n):\n",
    "        xterm = xterm * (xi - X[order-1])\n",
    "        yint2 = yint[order-1] + fdd[0][order] * xterm\n",
    "        ea.append(yint2 - yint[order-1])\n",
    "        yint.append(yint2)\n",
    "        \n",
    "    return yint2\n",
    "\n",
    "print \"Aproximacion a ln de %d : %f\"%(xi,fun(X,y,n,xi,yint,ea))\n"
   ]
  },
  {
   "cell_type": "code",
   "execution_count": null,
   "metadata": {
    "collapsed": true
   },
   "outputs": [],
   "source": []
  }
 ],
 "metadata": {
  "kernelspec": {
   "display_name": "Python 2",
   "language": "python",
   "name": "python2"
  },
  "language_info": {
   "codemirror_mode": {
    "name": "ipython",
    "version": 2
   },
   "file_extension": ".py",
   "mimetype": "text/x-python",
   "name": "python",
   "nbconvert_exporter": "python",
   "pygments_lexer": "ipython2",
   "version": "2.7.11"
  }
 },
 "nbformat": 4,
 "nbformat_minor": 0
}
