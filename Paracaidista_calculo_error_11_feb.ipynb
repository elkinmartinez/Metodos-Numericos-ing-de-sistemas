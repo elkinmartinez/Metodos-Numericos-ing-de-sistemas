{
 "cells": [
  {
   "cell_type": "code",
   "execution_count": 3,
   "metadata": {
    "collapsed": false
   },
   "outputs": [
    {
     "name": "stdout",
     "output_type": "stream",
     "text": [
      "tiempo     v analitica       v aproximada            Et                 et                  Ea  \n",
      " 0           0.000000          19.600000         19.600000            100.000000           38.758993\n",
      " 2           16.404572          32.004699         15.600127            48.743239           19.698250\n",
      " 4           27.768725          39.855544         12.086819            30.326568           11.084935\n",
      " 6           35.641163          44.824287         9.183124            20.486938           6.555659\n",
      " 8           41.094740          47.968969         6.874229            14.330575           3.983742\n",
      " 10           44.872667          49.959215         5.086548            10.181401           2.459277\n",
      " 12           47.489800          51.218828         3.729028            7.280581           1.532604\n",
      " 14           49.302800          52.016028         2.713227            5.216137           0.960656\n",
      " 16           50.558744          52.520570         1.961826            3.735348           0.604318\n",
      " 18           51.428790          52.839891         1.411101            2.670522           0.381011\n",
      " 20           52.031508          53.041987         1.010478            1.905054           0.240559\n",
      " 22           52.449037          53.169892         0.720854            1.355757           0.152017\n",
      " 24           52.738277          53.250842         0.512564            0.962547           0.096118\n",
      " 26           52.938647          53.302075         0.363428            0.681827           0.060795\n",
      " 28           53.077451          53.334500         0.257049            0.481955           0.038462\n",
      " 30           53.173607          53.355021         0.181414            0.340013           0.024336\n",
      " 32           53.240218          53.368009         0.127791            0.239452           0.015400\n",
      " 34           53.286362          53.376229         0.089866            0.168364           0.009746\n",
      " 36           53.318329          53.381431         0.063102            0.118210           0.006168\n"
     ]
    },
    {
     "data": {
      "image/png": "[encoded data removed]",
      "text/plain": [
       "<matplotlib.figure.Figure at 0x7e00550>"
      ]
     },
     "metadata": {},
     "output_type": "display_data"
    }
   ],
   "source": [
    "import matplotlib.pyplot as plt\n",
    "%matplotlib inline\n",
    "g = 9.8\n",
    "m = 68.1\n",
    "c = 12.5\n",
    "v = 0.0\n",
    "v2 = 0.0\n",
    "t = 0\n",
    "ts = 2\n",
    "vs = 0.0\n",
    "e = 2.7182\n",
    "velocidadsig = []\n",
    "tiemposig = []\n",
    "velocidad = []\n",
    "tiempo = []\n",
    "Et = []\n",
    "et = []\n",
    "Ea = []\n",
    "taux = []\n",
    "Errortolerado = 0.005\n",
    "\n",
    "while t<150:\n",
    "    vs = v  + (g-(c/m)*v)*(ts-t)\n",
    "    velocidadsig.append(vs)\n",
    "    tiemposig.append(t)\n",
    "    t = ts\n",
    "    ts = ts+2\n",
    "    v = vs\n",
    "    \n",
    "t=0\n",
    "while t<150:\n",
    "    \n",
    "    v2 = (g*m/c)*(1-e**(-(c/m)*t))\n",
    "    velocidad.append(v2)\n",
    "    tiempo.append(t)\n",
    "    t = t + 2\n",
    "    \n",
    "t=0\n",
    "while t<74:\n",
    "    Et.append(abs(velocidad[t]-velocidadsig[t]))\n",
    "    et.append((Et[t]/velocidadsig[t])*100)\n",
    "    Ea.append(((velocidadsig[t+1]-velocidadsig[t])/(velocidadsig[t+1]))*100)\n",
    "    taux.append(t)\n",
    "    t=t+1\n",
    "print \"tiempo     v analitica       v aproximada            Et                 et                  Ea  \"\n",
    "\n",
    "t=0\n",
    "while Ea[t]>Errortolerado:\n",
    "    print \" %s           %f          %f         %f            %f           %f\" %(tiempo[t],velocidad[t],velocidadsig[t],Et[t],et[t],Ea[t]) \n",
    "    t = t+1\n",
    "    \n",
    "plt.title(\"Error relativo porcentual y Error aproximado\")    \n",
    "plt.plot (taux, et,label='Error relativo porcentual')\n",
    "plt.plot (taux, Ea,label='Error relativo porcentual aproximado')\n",
    "plt.axis([-50, 100, -50, 110])\n",
    "plt.legend()\n",
    "plt.grid(True)\n",
    "plt.show()"
   ]
  },
  {
   "cell_type": "code",
   "execution_count": null,
   "metadata": {
    "collapsed": true
   },
   "outputs": [],
   "source": []
  }
 ],
 "metadata": {
  "kernelspec": {
   "display_name": "Python 2",
   "language": "python",
   "name": "python2"
  },
  "language_info": {
   "codemirror_mode": {
    "name": "ipython",
    "version": 2
   },
   "file_extension": ".py",
   "mimetype": "text/x-python",
   "name": "python",
   "nbconvert_exporter": "python",
   "pygments_lexer": "ipython2",
   "version": "2.7.11"
  }
 },
 "nbformat": 4,
 "nbformat_minor": 0
}
