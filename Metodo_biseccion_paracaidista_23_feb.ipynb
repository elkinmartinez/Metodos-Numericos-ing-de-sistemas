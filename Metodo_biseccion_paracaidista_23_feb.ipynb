{
 "cells": [
  {
   "cell_type": "code",
   "execution_count": 2,
   "metadata": {
    "collapsed": false
   },
   "outputs": [
    {
     "name": "stdout",
     "output_type": "stream",
     "text": [
      "0\n",
      "1\n",
      "2\n",
      "3\n",
      "4\n",
      "5\n",
      "6\n",
      "7\n",
      "8\n",
      "9\n",
      "10\n",
      "11\n",
      "12\n",
      "13\n",
      "14\n",
      "15\n",
      "16\n",
      "17\n",
      "18\n",
      "19\n",
      "20\n",
      "21\n",
      "22\n",
      "23\n",
      "24\n",
      "25\n",
      "26\n",
      "27\n",
      "28\n",
      "29\n",
      "30\n",
      "31\n",
      "32\n",
      "33\n",
      "34\n",
      "35\n",
      "36\n",
      "37\n",
      "38\n",
      "39\n",
      "40\n",
      "41\n",
      "42\n",
      "43\n",
      "44\n",
      "45\n",
      "46\n",
      "47\n",
      "48\n",
      "49\n",
      "50\n",
      "La raiz es igual a: 14.780204\n"
     ]
    }
   ],
   "source": [
    "import matplotlib.pyplot as plt\n",
    "import math\n",
    "%matplotlib inline\n",
    "g,m,c,t,v= 9.8,68.1,0.0,10,40\n",
    "c,f,funcion,coe=1,0.0,[],[]\n",
    "while c<=20:\n",
    "    f = (g*m/c)*(1-math.e**((-1*c/m)*t))-v\n",
    "    funcion.append(f)\n",
    "    coe.append(c)\n",
    "    c = c+1\n",
    "Xl,Xu,Xr,fun1,fun2 = 12.0,16.0,0.0,1.0,1.0\n",
    "\n",
    "def evaluar(valor):\n",
    "    fun = (g*m/valor)*(1-math.e**((-1*valor/m)*t))-v\n",
    "    return fun\n",
    "while (fun1*fun2)!=0:\n",
    "    Xr =  (Xl+Xu)/2\n",
    "    fun1 = evaluar(Xl)\n",
    "    fun2 = evaluar(Xr)\n",
    "    if (fun1*fun2)<0:\n",
    "        Xu = Xr\n",
    "    if (fun1*fun2)>0:\n",
    "        Xl = Xr\n",
    "print \"La raiz es igual a: %f\"%(Xr)\n",
    "\n",
    "plt.ylabel('f(c)')\n",
    "plt.xlabel('c')\n",
    "plt.plot(coe, funcion)\n",
    "plt.axis([0, 30, -20, 60])\n",
    "plt.grid(True)\n",
    "plt.show()\n"
   ]
  },
  {
   "cell_type": "code",
   "execution_count": null,
   "metadata": {
    "collapsed": true
   },
   "outputs": [],
   "source": []
  }
 ],
 "metadata": {
  "kernelspec": {
   "display_name": "Python 2",
   "language": "python",
   "name": "python2"
  },
  "language_info": {
   "codemirror_mode": {
    "name": "ipython",
    "version": 2
   },
   "file_extension": ".py",
   "mimetype": "text/x-python",
   "name": "python",
   "nbconvert_exporter": "python",
   "pygments_lexer": "ipython2",
   "version": "2.7.11"
  }
 },
 "nbformat": 4,
 "nbformat_minor": 0
}
