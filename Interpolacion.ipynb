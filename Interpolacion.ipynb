{
 "cells": [
  {
   "cell_type": "code",
   "execution_count": 5,
   "metadata": {
    "collapsed": false
   },
   "outputs": [
    {
     "name": "stdout",
     "output_type": "stream",
     "text": [
      "Ln de 2 por interpolacion lineal entre 1 y 6:  0.358351893846\n",
      "Error:  48.3007499856\n",
      "\n",
      "Ln de 2 por interpolacion lineal entre 1 y 4:  0.462098120373\n",
      "Error:  33.3333333333\n"
     ]
    }
   ],
   "source": [
    "import math\n",
    "X0,X1,X = 1,6,2\n",
    "\n",
    "def fun(x):\n",
    "    F = math.log(x)\n",
    "    return F\n",
    "\n",
    "F1X1 = fun(X0)+((fun(X1)-fun(X0))/(X1-X0))*(X-X0)\n",
    "Et1 = (math.log(2)-F1X1)/math.log(2)*100\n",
    "X0,X1 = 1,4\n",
    "F1X2 = fun(X0)+((fun(X1)-fun(X0))/(X1-X0))*(X-X0)\n",
    "Et2 = (math.log(2)-F1X2)/math.log(2)*100\n",
    "\n",
    "print \"Ln de 2 por interpolacion lineal entre 1 y 6: \",F1X1\n",
    "print \"Error: \",Et1\n",
    "print \"\"\n",
    "print \"Ln de 2 por interpolacion lineal entre 1 y 4: \",F1X2\n",
    "print \"Error: \",Et2"
   ]
  },
  {
   "cell_type": "code",
   "execution_count": 6,
   "metadata": {
    "collapsed": false
   },
   "outputs": [
    {
     "name": "stdout",
     "output_type": "stream",
     "text": [
      "Ln de 2 por interpolacion cuadratica 0.565844346901\n",
      "Error:  18.3659166811\n"
     ]
    }
   ],
   "source": [
    "import math\n",
    "X0,X1,X2,X = 1,4,6,2\n",
    "\n",
    "def fun(x):\n",
    "    F = math.log(x)\n",
    "    return F\n",
    "\n",
    "funx0 = fun(X0)\n",
    "funx1 = fun(X1)\n",
    "funx2 = fun(X2)\n",
    "\n",
    "b0 = funx0\n",
    "b1 = (funx1-funx0)/(X1-X0)\n",
    "b2 = (((funx2-funx1)/(X2-X1))-((funx1-funx0)/(X1-X0)))/(X2-X0)\n",
    "\n",
    "f2x = b0+b1*(X-X0)+b2*(X-X0)*(X-X1)\n",
    "Et = (math.log(2)-f2x)/math.log(2)*100\n",
    "\n",
    "print \"Ln de 2 por interpolacion cuadratica\",f2x\n",
    "print \"Error: \",Et"
   ]
  },
  {
   "cell_type": "code",
   "execution_count": 7,
   "metadata": {
    "collapsed": false
   },
   "outputs": [
    {
     "name": "stdout",
     "output_type": "stream",
     "text": [
      "Ingrese el valor a estimar: 2\n",
      "Ingrese el primer dato: 1\n",
      "Ingrese el segundo dato: 4\n",
      "Ingrese el tercer dato: 6\n",
      "Ln de 2 por interpolacion cuadratica 0.565844346901\n",
      "Error:  18.3659166811\n"
     ]
    }
   ],
   "source": [
    "import math\n",
    "X0,X1,X2,X = 0,0,0,0\n",
    "\n",
    "X = float(raw_input(\"Ingrese el valor a estimar: \"))\n",
    "X0 = float(raw_input(\"Ingrese el primer dato: \"))\n",
    "X1 = float(raw_input(\"Ingrese el segundo dato: \"))\n",
    "X2 = float(raw_input(\"Ingrese el tercer dato: \"))\n",
    "\n",
    "def fun(x):\n",
    "    F = math.log(x)\n",
    "    return F\n",
    "\n",
    "funx0 = fun(X0)\n",
    "funx1 = fun(X1)\n",
    "funx2 = fun(X2)\n",
    "\n",
    "b0 = funx0\n",
    "b1 = (funx1-funx0)/(X1-X0)\n",
    "b2 = (((funx2-funx1)/(X2-X1))-((funx1-funx0)/(X1-X0)))/(X2-X0)\n",
    "\n",
    "f2x = b0+b1*(X-X0)+b2*(X-X0)*(X-X1)\n",
    "Et = (math.log(2)-f2x)/math.log(2)*100\n",
    "\n",
    "print \"Ln de 2 por interpolacion cuadratica\",f2x\n",
    "print \"Error: \",Et"
   ]
  },
  {
   "cell_type": "code",
   "execution_count": null,
   "metadata": {
    "collapsed": true
   },
   "outputs": [],
   "source": []
  }
 ],
 "metadata": {
  "kernelspec": {
   "display_name": "Python 2",
   "language": "python",
   "name": "python2"
  },
  "language_info": {
   "codemirror_mode": {
    "name": "ipython",
    "version": 2
   },
   "file_extension": ".py",
   "mimetype": "text/x-python",
   "name": "python",
   "nbconvert_exporter": "python",
   "pygments_lexer": "ipython2",
   "version": "2.7.11"
  }
 },
 "nbformat": 4,
 "nbformat_minor": 0
}
