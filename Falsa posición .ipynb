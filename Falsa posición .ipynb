{
 "cells": [
  {
   "cell_type": "code",
   "execution_count": 4,
   "metadata": {
    "collapsed": false
   },
   "outputs": [
    {
     "name": "stdout",
     "output_type": "stream",
     "text": [
      "Xr                  Et                   Ea\n",
      "14.911303           0.887019             93.293678\n",
      "14.794193           0.094672             0.791597\n",
      "14.781695           0.010117             0.084547\n",
      "14.780363           0.001102             0.009015\n",
      "14.780221           0.000141             0.000961\n",
      "14.780206           0.000038             0.000102\n",
      "14.780204           0.000027             0.000011\n",
      "14.780204           0.000026             0.000001\n",
      "14.780204           0.000026             0.000000\n",
      "14.780204           0.000026             0.000000\n"
     ]
    }
   ],
   "source": [
    "import math\n",
    "g,m,c,t,v= 9.8,68.1,0.0,10,40\n",
    "valor,Et,Ea,Es = 14.7802,0.0,1.0,0.5\n",
    "Xl,Xu,Xr,fun1,fun2 = 12.0,16.0,1.0,1.0,1.0\n",
    "\n",
    "def evaluar(c):\n",
    "    fun = (g*m/c)*(1-math.e**((-1*c/m)*t))-v\n",
    "    return fun\n",
    "print \"Xr                  Et                   Ea\"\n",
    "n=0\n",
    "while (n<10):   \n",
    "    Xrant = Xr\n",
    "    Xr =  Xu-(evaluar(Xu)*(Xl-Xu)/(evaluar(Xl)-evaluar(Xu)))\n",
    "    Et = (abs(valor-Xr)/valor)*100\n",
    "    Ea = (abs(Xr-Xrant)/Xr)*100\n",
    "    fun1 = evaluar(Xl)\n",
    "    fun2 = evaluar(Xr)\n",
    "    if (fun1*fun2)<0:\n",
    "        Xu = Xr\n",
    "    if (fun1*fun2)>0:\n",
    "        Xl = Xr\n",
    "    print \"%f           %f             %f\"%(Xr,Et,Ea)\n",
    "    n += 1\n"
   ]
  },
  {
   "cell_type": "code",
   "execution_count": null,
   "metadata": {
    "collapsed": true
   },
   "outputs": [],
   "source": []
  }
 ],
 "metadata": {
  "kernelspec": {
   "display_name": "Python 2",
   "language": "python",
   "name": "python2"
  },
  "language_info": {
   "codemirror_mode": {
    "name": "ipython",
    "version": 2
   },
   "file_extension": ".py",
   "mimetype": "text/x-python",
   "name": "python",
   "nbconvert_exporter": "python",
   "pygments_lexer": "ipython2",
   "version": "2.7.11"
  }
 },
 "nbformat": 4,
 "nbformat_minor": 0
}
