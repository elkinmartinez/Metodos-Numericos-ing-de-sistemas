{
 "cells": [
  {
   "cell_type": "code",
   "execution_count": 1,
   "metadata": {
    "collapsed": false
   },
   "outputs": [
    {
     "name": "stdout",
     "output_type": "stream",
     "text": [
      "Et metodo biseccion                 Et metodo falsa posicion\n",
      "0.879193304107                         5.57288571429\n",
      "0.0945559078887                         1.46530666667\n",
      "0.0100890857864                         1.93244137931\n",
      "0.00107468948954                         0.204772881356\n",
      "0.000113556527925                         0.637284033613\n",
      "1.1088769225e-05                         0.218032067511\n",
      "1.6465051412e-07                         0.00707653276956\n",
      "9.99971772162e-07                         0.0987360846561\n",
      "1.12413238036e-06                         0.0458017979905\n",
      "1.13736913319e-06                         0.019355643669\n",
      "1.13878031988e-06                         0.00613780890709\n",
      "1.13893079134e-06                         0.000469798480347\n",
      "1.13894681198e-06                         0.00283389606528\n",
      "1.13894850658e-06                         0.00118202150679\n",
      "1.13894869888e-06                         0.000356104691974\n",
      "1.13894872292e-06                         5.68485994776e-05\n"
     ]
    },
    {
     "data": {
      "image/png": "[encoded data removed]",
      "text/plain": [
       "<matplotlib.figure.Figure at 0x7254390>"
      ]
     },
     "metadata": {},
     "output_type": "display_data"
    }
   ],
   "source": [
    "import matplotlib.pyplot as plt\n",
    "import math\n",
    "%matplotlib inline\n",
    "g,m,t,v= 9.8,68.1,10,40\n",
    "c,f,coe2,coe1,valorexac,error1,error2=1,0.0,[],[],14.780204,[],[]\n",
    "Xl,Xu,Xr,fun1,fun2 = 12.0,16.0,0.0,1.0,1.0\n",
    "\n",
    "def evaluar(valor):\n",
    "    fun = (g*m/valor)*(1-math.e**((-1*valor/m)*t))-v\n",
    "    return fun\n",
    "n=0\n",
    "\n",
    "while (fun1*fun2)!=0:\n",
    "    Xr =  Xu-(evaluar(Xu)*(Xl-Xu)/(evaluar(Xl)-evaluar(Xu)))\n",
    "    Et = (abs(valorexac-Xr)/Xr)*100\n",
    "    error1.append(Et)\n",
    "    fun1 = evaluar(Xl)\n",
    "    fun2 = evaluar(Xr)\n",
    "    if (fun1*fun2)<0:\n",
    "        Xu = Xr\n",
    "    if (fun1*fun2)>0:\n",
    "        Xl = Xr\n",
    "    coe1.append(n)\n",
    "    n = n+1\n",
    "\n",
    "n=0\n",
    "Xl,Xu,Xr,fun1,fun2 = 12.0,16.0,0.0,1.0,1.0\n",
    "while (fun1*fun2)!=0:\n",
    "    Xr =  (Xl+Xu)/2\n",
    "    Et = (abs(Xr-valorexac)/Xr)*100\n",
    "    error2.append(Et)\n",
    "    fun1 = evaluar(Xl)\n",
    "    fun2 = evaluar(Xr)\n",
    "    if (fun1*fun2)<0:\n",
    "        Xu = Xr\n",
    "    if (fun1*fun2)>0:\n",
    "        Xl = Xr\n",
    "    coe2.append(n)\n",
    "    n = n+1\n",
    "n=0       \n",
    "print   \"Et metodo biseccion                 Et metodo falsa posicion\" \n",
    "while n<16:\n",
    "    print \"%s                         %s\"%(error1[n],error2[n])\n",
    "    n = n+1\n",
    "\n",
    "plt.ylabel('Error relativo porcentual verdadero')\n",
    "plt.xlabel('iteraciones')\n",
    "plt.plot(coe1, error1,label=\"Et metodo falsa posicion\")\n",
    "plt.plot(coe2, error2,label=\"Et metodo biseccion\")\n",
    "plt.axis([-1, 20, -1, 6])\n",
    "plt.grid(True)\n",
    "plt.legend()\n",
    "plt.show()"
   ]
  },
  {
   "cell_type": "code",
   "execution_count": null,
   "metadata": {
    "collapsed": true
   },
   "outputs": [],
   "source": []
  }
 ],
 "metadata": {
  "kernelspec": {
   "display_name": "Python 2",
   "language": "python",
   "name": "python2"
  },
  "language_info": {
   "codemirror_mode": {
    "name": "ipython",
    "version": 2
   },
   "file_extension": ".py",
   "mimetype": "text/x-python",
   "name": "python",
   "nbconvert_exporter": "python",
   "pygments_lexer": "ipython2",
   "version": "2.7.11"
  }
 },
 "nbformat": 4,
 "nbformat_minor": 0
}
