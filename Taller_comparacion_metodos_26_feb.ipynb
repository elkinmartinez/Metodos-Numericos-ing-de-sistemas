{
 "cells": [
  {
   "cell_type": "code",
   "execution_count": null,
   "metadata": {
    "collapsed": false
   },
   "outputs": [],
   "source": [
    "import matplotlib.pyplot as plt\n",
    "import math\n",
    "%matplotlib inline\n",
    "g,m,t,v= 9.8,68.1,10,40\n",
    "c,f,coe2,coe1,valorexac,error1,error2=1,0.0,[],[],14.780204,[],[]\n",
    "Xl,Xu,Xr,fun1,fun2 = 12.0,16.0,0.0,1.0,1.0\n",
    "\n",
    "def evaluar(valor):\n",
    "    fun = (g*m/valor)*(1-math.e**((-1*valor/m)*t))-v\n",
    "    return fun\n",
    "n=0\n",
    "\n",
    "while (fun1*fun2)!=0:\n",
    "    Xr =  Xu-(evaluar(Xu)*(Xl-Xu)/(evaluar(Xl)-evaluar(Xu)))\n",
    "    Et = (abs(valorexac-Xr)/Xr)*100\n",
    "    error1.append(Et)\n",
    "    fun1 = evaluar(Xl)\n",
    "    fun2 = evaluar(Xr)\n",
    "    if (fun1*fun2)<0:\n",
    "        Xu = Xr\n",
    "    if (fun1*fun2)>0:\n",
    "        Xl = Xr\n",
    "    coe1.append(n)\n",
    "    n = n+1\n",
    "\n",
    "n=0\n",
    "Xl,Xu,Xr,fun1,fun2 = 12.0,16.0,0.0,1.0,1.0\n",
    "while (fun1*fun2)!=0:\n",
    "    Xr =  (Xl+Xu)/2\n",
    "    Et = (abs(Xr-valorexac)/Xr)*100\n",
    "    error2.append(Et)\n",
    "    fun1 = evaluar(Xl)\n",
    "    fun2 = evaluar(Xr)\n",
    "    if (fun1*fun2)<0:\n",
    "        Xu = Xr\n",
    "    if (fun1*fun2)>0:\n",
    "        Xl = Xr\n",
    "    coe2.append(n)\n",
    "    n = n+1\n",
    "n=0       \n",
    "print   \"Et metodo biseccion                 Et metodo falsa posicion\" \n",
    "while n<16:\n",
    "    print \"%s                         %s\"%(error1[n],error2[n])\n",
    "    n = n+1\n",
    "\n",
    "plt.ylabel('Error relativo porcentual verdadero')\n",
    "plt.xlabel('iteraciones')\n",
    "plt.plot(coe1, error1,label=\"Et metodo falsa posicion\")\n",
    "plt.plot(coe2, error2,label=\"Et metodo biseccion\")\n",
    "plt.axis([-1, 20, -1, 6])\n",
    "plt.grid(True)\n",
    "plt.legend()\n",
    "plt.show()"
   ]
  },
  {
   "cell_type": "code",
   "execution_count": null,
   "metadata": {
    "collapsed": true
   },
   "outputs": [],
   "source": []
  }
 ],
 "metadata": {
  "kernelspec": {
   "display_name": "Python 2",
   "language": "python",
   "name": "python2"
  },
  "language_info": {
   "codemirror_mode": {
    "name": "ipython",
    "version": 2
   },
   "file_extension": ".py",
   "mimetype": "text/x-python",
   "name": "python",
   "nbconvert_exporter": "python",
   "pygments_lexer": "ipython2",
   "version": "2.7.11"
  }
 },
 "nbformat": 4,
 "nbformat_minor": 0
}
