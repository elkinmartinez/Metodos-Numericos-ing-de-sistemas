{
 "cells": [
  {
   "cell_type": "code",
   "execution_count": 1,
   "metadata": {
    "collapsed": false
   },
   "outputs": [
    {
     "name": "stdout",
     "output_type": "stream",
     "text": [
      "La solucion en y es 4.0\n",
      "La solucion en x es 3.0\n"
     ]
    },
    {
     "data": {
      "image/png": "[encoded data removed]",
      "text/plain": [
       "<matplotlib.figure.Figure at 0x3eff668>"
      ]
     },
     "metadata": {},
     "output_type": "display_data"
    }
   ],
   "source": [
    "import matplotlib.pyplot as plt\n",
    "%matplotlib inline\n",
    "fun1,fun2,fun3,fun4,x1,x,X1,X2,n = [],[],[],[],[],0.0,0.0,0.0,0\n",
    "while x<10:\n",
    "    fun1.append(-1.5*x+9)\n",
    "    fun2.append((2+x)/2)\n",
    "    fun3.append(2*x-2)\n",
    "    fun4.append(-2*x/3+6)\n",
    "    x1.append(x)\n",
    "    if (fun1[n]==fun2[n]):\n",
    "        print \"La solucion en x es %s\" % (fun1[n])\n",
    "    if (fun3[n]==fun4[n]):\n",
    "        print \"La solucion en y es %s\" % (fun3[n])\n",
    "    x = x + 1\n",
    "    n = n + 1  \n",
    "\n",
    "plt.ylabel('X2')\n",
    "plt.xlabel('X1')\n",
    "plt.plot(x1, fun1,label = '(-3/2)x+9')\n",
    "plt.plot(x1, fun2,label = '(2+x)/2')\n",
    "plt.axis([-5, 10, -5, 15])   \n",
    "plt.legend() \n",
    "plt.grid(True)\n",
    "plt.show()"
   ]
  },
  {
   "cell_type": "code",
   "execution_count": null,
   "metadata": {
    "collapsed": true
   },
   "outputs": [],
   "source": []
  }
 ],
 "metadata": {
  "kernelspec": {
   "display_name": "Python 2",
   "language": "python",
   "name": "python2"
  },
  "language_info": {
   "codemirror_mode": {
    "name": "ipython",
    "version": 2
   },
   "file_extension": ".py",
   "mimetype": "text/x-python",
   "name": "python",
   "nbconvert_exporter": "python",
   "pygments_lexer": "ipython2",
   "version": "2.7.11"
  }
 },
 "nbformat": 4,
 "nbformat_minor": 0
}
