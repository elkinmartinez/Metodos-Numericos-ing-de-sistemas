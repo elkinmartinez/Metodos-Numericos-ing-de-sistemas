{
 "cells": [
  {
   "cell_type": "code",
   "execution_count": 13,
   "metadata": {
    "collapsed": false
   },
   "outputs": [
    {
     "name": "stdout",
     "output_type": "stream",
     "text": [
      "#término     e^x por cada termino        Et                        Ea                       e^x aprox \n",
      "1            1.000000                   64.872127                     100.000000                1.000000\n",
      "2            0.500000                   9.914751                     33.333333                1.500000\n",
      "3            0.125000                   1.459770                     7.692308                1.625000\n",
      "4            0.020833                   0.175470                     1.265823                1.645833\n",
      "5            0.002604                   0.017215                     0.157978                1.648438\n",
      "6            0.000260                   0.001417                     0.015795                1.648698\n"
     ]
    }
   ],
   "source": [
    "serie=0.0\n",
    "n = 1\n",
    "fac = 1\n",
    "i=1\n",
    "e=2.718281828\n",
    "x=0.5\n",
    "aux = 0.0\n",
    "arreglo = []\n",
    "arreglo.append(1)\n",
    "Et,Ea = 0.0,1.0\n",
    "valorv = e**x\n",
    "aprox = 0.0\n",
    "Errortolerado=0.05\n",
    "print \"#término     e^x por cada termino        Et                        Ea                       e^x aprox \"\n",
    "while n<150:\n",
    "    fac = fac*i\n",
    "    i = i + 1\n",
    "    serie = (x**n)/fac\n",
    "    aux = serie + aux \n",
    "    arreglo.append(serie)\n",
    "    n = n + 1\n",
    "\n",
    "aprox = aux+1\n",
    "n, acum = 1,0\n",
    "while Ea>Errortolerado:\n",
    "    acumant=acum\n",
    "    acum = acum + arreglo[n-1]\n",
    "    acumsig=acum\n",
    "    Et = abs((valorv-acum)/acum)*100\n",
    "    Ea = (abs(acumsig-acumant)/acumsig)*100\n",
    "    print \"%d            %f                   %f                     %f                %f\" % (n, arreglo[n-1], Et, Ea, acum)\n",
    "    n = n + 1"
   ]
  },
  {
   "cell_type": "code",
   "execution_count": null,
   "metadata": {
    "collapsed": true
   },
   "outputs": [],
   "source": []
  }
 ],
 "metadata": {
  "kernelspec": {
   "display_name": "Python 2",
   "language": "python",
   "name": "python2"
  },
  "language_info": {
   "codemirror_mode": {
    "name": "ipython",
    "version": 2
   },
   "file_extension": ".py",
   "mimetype": "text/x-python",
   "name": "python",
   "nbconvert_exporter": "python",
   "pygments_lexer": "ipython2",
   "version": "2.7.11"
  }
 },
 "nbformat": 4,
 "nbformat_minor": 0
}
