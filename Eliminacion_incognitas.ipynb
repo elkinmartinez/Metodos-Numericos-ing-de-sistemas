{
 "cells": [
  {
   "cell_type": "code",
   "execution_count": 3,
   "metadata": {
    "collapsed": false,
    "scrolled": true
   },
   "outputs": [
    {
     "name": "stdout",
     "output_type": "stream",
     "text": [
      "Ingrese el numero de incognitas3\n",
      "Ingrese el elemento 1 del vector de soluciones: 7.85\n",
      "Ingrese el Elemento 11 de la matriz de coeficientes: 3\n",
      "Ingrese el Elemento 12 de la matriz de coeficientes: -0.1\n",
      "Ingrese el Elemento 13 de la matriz de coeficientes: -0.2\n",
      "Ingrese el elemento 2 del vector de soluciones: -19.3\n",
      "Ingrese el Elemento 21 de la matriz de coeficientes: 0.1\n",
      "Ingrese el Elemento 22 de la matriz de coeficientes: 7\n",
      "Ingrese el Elemento 23 de la matriz de coeficientes: -0.3\n",
      "Ingrese el elemento 3 del vector de soluciones: 71.4\n",
      "Ingrese el Elemento 31 de la matriz de coeficientes: 0.3\n",
      "Ingrese el Elemento 32 de la matriz de coeficientes: -0.2\n",
      "Ingrese el Elemento 33 de la matriz de coeficientes: 10\n",
      "\n",
      "El valor de la incognita X1 es 3.000000\n",
      "\n",
      "El valor de la incognita X2 es -2.500000\n",
      "\n",
      "El valor de la incognita X3 es 7.000000\n"
     ]
    }
   ],
   "source": [
    "m,r,x,d,y,i,j,n,k,h,n = [],[],[],0.0,0.0,0,0,0,0,0,0\n",
    "n = int(raw_input(\"Ingrese el numero de incognitas\"))\n",
    "\n",
    "for z in range(0,n):\n",
    "    m.append([0.0]*n)\n",
    "\n",
    "for i in range(0,n):\n",
    "    k=i+1\n",
    "    r.append(float(raw_input(\"Ingrese el elemento %d del vector de soluciones: \"%k)))\n",
    "    x.insert(i,0.0)\n",
    "    for j in range(0,n):\n",
    "        h = j+1\n",
    "        m[i][j] = float(raw_input(\"Ingrese el Elemento %d%d de la matriz de coeficientes: \" %(k,h)))\n",
    "def haciaAdelante():\n",
    "    for i in range(0,n):\n",
    "        for j in range(i,n):\n",
    "            if (i==j):\n",
    "                d = m[i][j]\n",
    "                for s in range (0,n):\n",
    "                    m[i][s]=((m[i][s])/d)\n",
    "                r[i]=((r[i])/d)\n",
    "            else:\n",
    "                d=m[j][i]\n",
    "                for s in range (0,n):\n",
    "                    m[j][s]=m[j][s]-(d*m[i][s])\n",
    "                r[j]=r[j]-(d*r[i])\n",
    "def haciaAtras():\n",
    "    i=n-1\n",
    "    j=n-1\n",
    "    while (i>=0):\n",
    "        y = r[i]\n",
    "        while (j>=i):\n",
    "            y=y-x[j]*m[i][j]\n",
    "            j -= 1\n",
    "        x[i]=y\n",
    "        i -= 1\n",
    "        j=n-1\n",
    "    for i in range(0,n):\n",
    "        k=i+1\n",
    "        print \"\"\n",
    "        print \"El valor de la incognita X%d es %f\"%(k,x[i])\n",
    "haciaAdelante()\n",
    "haciaAtras()"
   ]
  },
  {
   "cell_type": "code",
   "execution_count": null,
   "metadata": {
    "collapsed": true
   },
   "outputs": [],
   "source": []
  }
 ],
 "metadata": {
  "kernelspec": {
   "display_name": "Python 2",
   "language": "python",
   "name": "python2"
  },
  "language_info": {
   "codemirror_mode": {
    "name": "ipython",
    "version": 2
   },
   "file_extension": ".py",
   "mimetype": "text/x-python",
   "name": "python",
   "nbconvert_exporter": "python",
   "pygments_lexer": "ipython2",
   "version": "2.7.11"
  }
 },
 "nbformat": 4,
 "nbformat_minor": 0
}
