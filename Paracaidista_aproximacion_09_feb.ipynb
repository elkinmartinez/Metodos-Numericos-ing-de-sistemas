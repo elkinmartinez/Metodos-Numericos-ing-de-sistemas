{
 "cells": [
  {
   "cell_type": "code",
   "execution_count": 2,
   "metadata": {
    "collapsed": false
   },
   "outputs": [],
   "source": [
    "import matplotlib.pyplot as plt\n",
    "g = 9.8\n",
    "m = 68.1\n",
    "c = 12.5\n",
    "v = 0.0\n",
    "v2 = 0.0\n",
    "t2 = 0\n",
    "t = 0\n",
    "ts = 2\n",
    "vs = 0.0\n",
    "e = 2.7182\n",
    "arreglo = []\n",
    "arreglo2 = []\n",
    "arreglo3 = []\n",
    "arreglo4 = []\n",
    "\n",
    "while t<150:\n",
    "    vs = v  + (g-(c/m)*v)*(ts-t)\n",
    "    arreglo.append(vs)\n",
    "    arreglo2.append(ts)\n",
    "    t = ts\n",
    "    ts = ts+2\n",
    "    v = vs\n",
    "\n",
    "while t2<150:\n",
    "    \n",
    "    v2 = (g*m/c)*(1-e**(-(c/m)*t2))\n",
    "    arreglo3.append(v2)\n",
    "    arreglo4.append(t2)\n",
    "    t2 = t2+1\n",
    "    \n",
    "plt.ylabel('Velocidad (m/s)')\n",
    "plt.xlabel('Tiempo (s)')\n",
    "plt.plot(arreglo2, arreglo,'ro')\n",
    "plt.plot(arreglo4, arreglo3)\n",
    "plt.axis([0, 80, 0, 100])\n",
    "plt.show()\n"
   ]
  },
  {
   "cell_type": "code",
   "execution_count": null,
   "metadata": {
    "collapsed": true
   },
   "outputs": [],
   "source": []
  },
  {
   "cell_type": "code",
   "execution_count": null,
   "metadata": {
    "collapsed": true
   },
   "outputs": [],
   "source": []
  },
  {
   "cell_type": "code",
   "execution_count": null,
   "metadata": {
    "collapsed": true
   },
   "outputs": [],
   "source": []
  },
  {
   "cell_type": "code",
   "execution_count": null,
   "metadata": {
    "collapsed": true
   },
   "outputs": [],
   "source": []
  },
  {
   "cell_type": "code",
   "execution_count": null,
   "metadata": {
    "collapsed": true
   },
   "outputs": [],
   "source": []
  },
  {
   "cell_type": "code",
   "execution_count": null,
   "metadata": {
    "collapsed": true
   },
   "outputs": [],
   "source": []
  },
  {
   "cell_type": "code",
   "execution_count": null,
   "metadata": {
    "collapsed": true
   },
   "outputs": [],
   "source": []
  },
  {
   "cell_type": "code",
   "execution_count": null,
   "metadata": {
    "collapsed": true
   },
   "outputs": [],
   "source": []
  },
  {
   "cell_type": "code",
   "execution_count": null,
   "metadata": {
    "collapsed": true
   },
   "outputs": [],
   "source": []
  },
  {
   "cell_type": "code",
   "execution_count": null,
   "metadata": {
    "collapsed": true
   },
   "outputs": [],
   "source": []
  },
  {
   "cell_type": "code",
   "execution_count": null,
   "metadata": {
    "collapsed": true
   },
   "outputs": [],
   "source": []
  }
 ],
 "metadata": {
  "kernelspec": {
   "display_name": "Python 2",
   "language": "python",
   "name": "python2"
  },
  "language_info": {
   "codemirror_mode": {
    "name": "ipython",
    "version": 2
   },
   "file_extension": ".py",
   "mimetype": "text/x-python",
   "name": "python",
   "nbconvert_exporter": "python",
   "pygments_lexer": "ipython2",
   "version": "2.7.11"
  }
 },
 "nbformat": 4,
 "nbformat_minor": 0
}
